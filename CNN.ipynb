{
 "cells": [
  {
   "cell_type": "code",
   "execution_count": 1,
   "metadata": {},
   "outputs": [],
   "source": [
    "\n",
    "import numpy as np # linear algebra\n",
    "import pandas as pd\n",
    "import tensorflow as tf\n",
    "from tensorflow import keras\n",
    "import matplotlib.pyplot as plt\n",
    "import seaborn as sns\n",
    "from sklearn.model_selection import train_test_split\n",
    "from keras.layers import Conv2D, MaxPool2D, AveragePooling2D, Input, BatchNormalization, MaxPooling2D, Activation, Flatten, Dense, Dropout\n",
    "from keras.models import Sequential\n",
    "from keras.utils import np_utils\n",
    "from sklearn.metrics import classification_report\n",
    "from imblearn.over_sampling import RandomOverSampler\n",
    "from keras.preprocessing import image\n",
    "import scipy\n",
    "import os\n",
    "import cv2"
   ]
  },
  {
   "cell_type": "code",
   "execution_count": 396,
   "metadata": {},
   "outputs": [],
   "source": [
    "data = pd.read_csv(\"real5foldercsv.csv\")\n",
    "x_data = data['pixels']\n",
    "y_data = data['emotion']"
   ]
  },
  {
   "cell_type": "code",
   "execution_count": 397,
   "metadata": {},
   "outputs": [],
   "source": [
    "x_list = []\n"
   ]
  },
  {
   "cell_type": "code",
   "execution_count": 398,
   "metadata": {},
   "outputs": [],
   "source": [
    "for i in x_data:\n",
    "    x_temp = i.split(\" \")\n",
    "    x_temp = np.array(x_temp[:-1],np.float32)\n",
    "    x_list.append(x_temp)"
   ]
  },
  {
   "cell_type": "code",
   "execution_count": 399,
   "metadata": {},
   "outputs": [],
   "source": [
    "x_list_array = np.array(x_list)"
   ]
  },
  {
   "cell_type": "code",
   "execution_count": 187,
   "metadata": {},
   "outputs": [],
   "source": [
    "count_0 = 0\n",
    "count_1 = 0\n",
    "count_2 = 0\n",
    "count_3 = 0\n",
    "count_4 = 0\n",
    "count_5 = 0\n",
    "count_6 = 0\n",
    "count_7 = 0"
   ]
  },
  {
   "cell_type": "code",
   "execution_count": 188,
   "metadata": {},
   "outputs": [],
   "source": [
    "for i in y_train:\n",
    "    if i == 0:\n",
    "        count_0 += 1\n",
    "    elif i == 1:\n",
    "        count_1 += 1\n",
    "    elif i == 2:\n",
    "        count_2 += 1\n",
    "    elif i == 3:\n",
    "        count_3 += 1\n",
    "    elif i == 4:\n",
    "        count_4 += 1\n",
    "    elif i == 5:\n",
    "        count_5 += 1\n",
    "    elif i == 6:\n",
    "        count_6 += 1\n",
    "    elif i == 7:\n",
    "        count_7 += 1\n",
    "        "
   ]
  },
  {
   "cell_type": "code",
   "execution_count": 189,
   "metadata": {},
   "outputs": [
    {
     "name": "stdout",
     "output_type": "stream",
     "text": [
      "0 >  1112\n",
      "1 >  163\n",
      "2 >  190\n",
      "3 >  1900\n",
      "4 >  2449\n",
      "5 >  2250\n",
      "6 >  2356\n",
      "7 >  1340\n"
     ]
    }
   ],
   "source": [
    "print(\"0 > \",count_0)\n",
    "print(\"1 > \",count_1)\n",
    "print(\"2 > \",count_2)\n",
    "print(\"3 > \",count_3)\n",
    "print(\"4 > \",count_4)\n",
    "print(\"5 > \",count_5)\n",
    "print(\"6 > \",count_6)\n",
    "print(\"7 > \",count_7)\n"
   ]
  },
  {
   "cell_type": "code",
   "execution_count": 400,
   "metadata": {},
   "outputs": [],
   "source": [
    "X_train = x_list_array[0:47049]\n",
    "X_test = x_list_array[47040:]"
   ]
  },
  {
   "cell_type": "code",
   "execution_count": 118,
   "metadata": {},
   "outputs": [
    {
     "data": {
      "text/plain": [
       "(7999, 2304)"
      ]
     },
     "execution_count": 118,
     "metadata": {},
     "output_type": "execute_result"
    }
   ],
   "source": []
  },
  {
   "cell_type": "code",
   "execution_count": 401,
   "metadata": {},
   "outputs": [],
   "source": [
    "y_train = y_data[0:47049]\n",
    "y_test = y_data[47040:]"
   ]
  },
  {
   "cell_type": "code",
   "execution_count": 402,
   "metadata": {},
   "outputs": [],
   "source": [
    "X_train_eff = X_train.reshape(X_train.shape[0], 48, 48, 1)\n",
    "X_test_eff = X_test.reshape(X_test.shape[0], 48, 48, 1)"
   ]
  },
  {
   "cell_type": "code",
   "execution_count": 403,
   "metadata": {},
   "outputs": [],
   "source": [
    "y_train= np_utils.to_categorical(y_train, num_classes=8)\n",
    "y_test = np_utils.to_categorical(y_test, num_classes=8)\n"
   ]
  },
  {
   "cell_type": "code",
   "execution_count": 404,
   "metadata": {},
   "outputs": [
    {
     "name": "stdout",
     "output_type": "stream",
     "text": [
      "X_train data type is float32\n",
      "y_train data type is float32\n",
      "X_test data type is float32\n",
      "y_test data type is float32\n"
     ]
    }
   ],
   "source": [
    "print(\"X_train data type is\", X_train.dtype)\n",
    "print(\"y_train data type is\", y_train.dtype)\n",
    "print(\"X_test data type is\", X_test.dtype)\n",
    "print(\"y_test data type is\", y_test.dtype)"
   ]
  },
  {
   "cell_type": "code",
   "execution_count": 405,
   "metadata": {},
   "outputs": [
    {
     "name": "stdout",
     "output_type": "stream",
     "text": [
      "X_train shape: (47049, 2304)\n",
      "X_test shape: (11760, 2304)\n",
      "y_train shape: (47049, 8)\n",
      "y_test shape: (11760, 8)\n"
     ]
    }
   ],
   "source": [
    "print('X_train shape:', X_train.shape)\n",
    "print('X_test shape:', X_test.shape)\n",
    "print('y_train shape:', y_train.shape)\n",
    "print('y_test shape:', y_test.shape)"
   ]
  },
  {
   "cell_type": "code",
   "execution_count": 33,
   "metadata": {},
   "outputs": [
    {
     "ename": "ValueError",
     "evalue": "Input to `.fit()` should have rank 4. Got array with shape: (10000, 48, 48)",
     "output_type": "error",
     "traceback": [
      "\u001b[1;31m---------------------------------------------------------------------------\u001b[0m",
      "\u001b[1;31mValueError\u001b[0m                                Traceback (most recent call last)",
      "\u001b[1;32mc:\\Users\\ANFIELD\\Desktop\\tu\\cn240\\ann\\CNN.ipynb Cell 9'\u001b[0m in \u001b[0;36m<cell line: 8>\u001b[1;34m()\u001b[0m\n\u001b[0;32m      <a href='vscode-notebook-cell:/c%3A/Users/ANFIELD/Desktop/tu/cn240/ann/CNN.ipynb#ch0000013?line=0'>1</a>\u001b[0m datagen \u001b[39m=\u001b[39m ImageDataGenerator( \n\u001b[0;32m      <a href='vscode-notebook-cell:/c%3A/Users/ANFIELD/Desktop/tu/cn240/ann/CNN.ipynb#ch0000013?line=1'>2</a>\u001b[0m     rescale\u001b[39m=\u001b[39m\u001b[39m1.\u001b[39m\u001b[39m/\u001b[39m\u001b[39m48\u001b[39m,\n\u001b[0;32m      <a href='vscode-notebook-cell:/c%3A/Users/ANFIELD/Desktop/tu/cn240/ann/CNN.ipynb#ch0000013?line=2'>3</a>\u001b[0m     rotation_range \u001b[39m=\u001b[39m \u001b[39m10\u001b[39m,\n\u001b[1;32m   (...)\u001b[0m\n\u001b[0;32m      <a href='vscode-notebook-cell:/c%3A/Users/ANFIELD/Desktop/tu/cn240/ann/CNN.ipynb#ch0000013?line=5'>6</a>\u001b[0m     height_shift_range\u001b[39m=\u001b[39m\u001b[39m0.1\u001b[39m,\n\u001b[0;32m      <a href='vscode-notebook-cell:/c%3A/Users/ANFIELD/Desktop/tu/cn240/ann/CNN.ipynb#ch0000013?line=6'>7</a>\u001b[0m     fill_mode \u001b[39m=\u001b[39m \u001b[39m'\u001b[39m\u001b[39mnearest\u001b[39m\u001b[39m'\u001b[39m)\n\u001b[1;32m----> <a href='vscode-notebook-cell:/c%3A/Users/ANFIELD/Desktop/tu/cn240/ann/CNN.ipynb#ch0000013?line=7'>8</a>\u001b[0m datagen\u001b[39m.\u001b[39;49mfit(x_list_array)\n\u001b[0;32m      <a href='vscode-notebook-cell:/c%3A/Users/ANFIELD/Desktop/tu/cn240/ann/CNN.ipynb#ch0000013?line=8'>9</a>\u001b[0m batch_size \u001b[39m=\u001b[39m \u001b[39m64\u001b[39m\n",
      "File \u001b[1;32mc:\\Users\\ANFIELD\\miniconda3\\envs\\tf_new\\lib\\site-packages\\keras_preprocessing\\image\\image_data_generator.py:935\u001b[0m, in \u001b[0;36mImageDataGenerator.fit\u001b[1;34m(self, x, augment, rounds, seed)\u001b[0m\n\u001b[0;32m    <a href='file:///c%3A/Users/ANFIELD/miniconda3/envs/tf_new/lib/site-packages/keras_preprocessing/image/image_data_generator.py?line=932'>933</a>\u001b[0m x \u001b[39m=\u001b[39m np\u001b[39m.\u001b[39masarray(x, dtype\u001b[39m=\u001b[39m\u001b[39mself\u001b[39m\u001b[39m.\u001b[39mdtype)\n\u001b[0;32m    <a href='file:///c%3A/Users/ANFIELD/miniconda3/envs/tf_new/lib/site-packages/keras_preprocessing/image/image_data_generator.py?line=933'>934</a>\u001b[0m \u001b[39mif\u001b[39;00m x\u001b[39m.\u001b[39mndim \u001b[39m!=\u001b[39m \u001b[39m4\u001b[39m:\n\u001b[1;32m--> <a href='file:///c%3A/Users/ANFIELD/miniconda3/envs/tf_new/lib/site-packages/keras_preprocessing/image/image_data_generator.py?line=934'>935</a>\u001b[0m     \u001b[39mraise\u001b[39;00m \u001b[39mValueError\u001b[39;00m(\u001b[39m'\u001b[39m\u001b[39mInput to `.fit()` should have rank 4. \u001b[39m\u001b[39m'\u001b[39m\n\u001b[0;32m    <a href='file:///c%3A/Users/ANFIELD/miniconda3/envs/tf_new/lib/site-packages/keras_preprocessing/image/image_data_generator.py?line=935'>936</a>\u001b[0m                      \u001b[39m'\u001b[39m\u001b[39mGot array with shape: \u001b[39m\u001b[39m'\u001b[39m \u001b[39m+\u001b[39m \u001b[39mstr\u001b[39m(x\u001b[39m.\u001b[39mshape))\n\u001b[0;32m    <a href='file:///c%3A/Users/ANFIELD/miniconda3/envs/tf_new/lib/site-packages/keras_preprocessing/image/image_data_generator.py?line=936'>937</a>\u001b[0m \u001b[39mif\u001b[39;00m x\u001b[39m.\u001b[39mshape[\u001b[39mself\u001b[39m\u001b[39m.\u001b[39mchannel_axis] \u001b[39mnot\u001b[39;00m \u001b[39min\u001b[39;00m {\u001b[39m1\u001b[39m, \u001b[39m3\u001b[39m, \u001b[39m4\u001b[39m}:\n\u001b[0;32m    <a href='file:///c%3A/Users/ANFIELD/miniconda3/envs/tf_new/lib/site-packages/keras_preprocessing/image/image_data_generator.py?line=937'>938</a>\u001b[0m     warnings\u001b[39m.\u001b[39mwarn(\n\u001b[0;32m    <a href='file:///c%3A/Users/ANFIELD/miniconda3/envs/tf_new/lib/site-packages/keras_preprocessing/image/image_data_generator.py?line=938'>939</a>\u001b[0m         \u001b[39m'\u001b[39m\u001b[39mExpected input to be images (as Numpy array) \u001b[39m\u001b[39m'\u001b[39m\n\u001b[0;32m    <a href='file:///c%3A/Users/ANFIELD/miniconda3/envs/tf_new/lib/site-packages/keras_preprocessing/image/image_data_generator.py?line=939'>940</a>\u001b[0m         \u001b[39m'\u001b[39m\u001b[39mfollowing the data format convention \u001b[39m\u001b[39m\"\u001b[39m\u001b[39m'\u001b[39m \u001b[39m+\u001b[39m\n\u001b[1;32m   (...)\u001b[0m\n\u001b[0;32m    <a href='file:///c%3A/Users/ANFIELD/miniconda3/envs/tf_new/lib/site-packages/keras_preprocessing/image/image_data_generator.py?line=945'>946</a>\u001b[0m         \u001b[39mstr\u001b[39m(x\u001b[39m.\u001b[39mshape) \u001b[39m+\u001b[39m \u001b[39m'\u001b[39m\u001b[39m (\u001b[39m\u001b[39m'\u001b[39m \u001b[39m+\u001b[39m \u001b[39mstr\u001b[39m(x\u001b[39m.\u001b[39mshape[\u001b[39mself\u001b[39m\u001b[39m.\u001b[39mchannel_axis]) \u001b[39m+\u001b[39m\n\u001b[0;32m    <a href='file:///c%3A/Users/ANFIELD/miniconda3/envs/tf_new/lib/site-packages/keras_preprocessing/image/image_data_generator.py?line=946'>947</a>\u001b[0m         \u001b[39m'\u001b[39m\u001b[39m channels).\u001b[39m\u001b[39m'\u001b[39m)\n",
      "\u001b[1;31mValueError\u001b[0m: Input to `.fit()` should have rank 4. Got array with shape: (10000, 48, 48)"
     ]
    }
   ],
   "source": []
  },
  {
   "cell_type": "code",
   "execution_count": 21,
   "metadata": {},
   "outputs": [],
   "source": [
    "from keras.utils.vis_utils import plot_model\n",
    "from keras.models import Model\n",
    "from keras.layers import Input, Dense, Flatten, Dropout, BatchNormalization\n",
    "from keras.layers.convolutional import Conv2D\n",
    "from keras.layers.pooling import MaxPooling2D\n",
    "from keras.layers.merge import concatenate\n",
    "from tensorflow.keras.optimizers import Adam,SGD\n",
    "\n",
    "from keras.regularizers import l1, l2\n",
    "from matplotlib import pyplot as plt\n",
    "from sklearn.metrics import confusion_matrix"
   ]
  },
  {
   "cell_type": "code",
   "execution_count": 50,
   "metadata": {},
   "outputs": [],
   "source": [
    "\n",
    "from keras.models import Sequential\n",
    "from keras.layers.core import Flatten, Dense, Dropout\n",
    "from keras.layers.convolutional import Convolution2D, MaxPooling2D, ZeroPadding2D\n",
    "from tensorflow.keras.optimizers import Adam,SGD\n",
    "import cv2"
   ]
  },
  {
   "cell_type": "code",
   "execution_count": 103,
   "metadata": {},
   "outputs": [
    {
     "data": {
      "text/plain": [
       "array([[ 34.],\n",
       "       [ 18.],\n",
       "       [ 20.],\n",
       "       [  9.],\n",
       "       [  9.],\n",
       "       [ 15.],\n",
       "       [ 19.],\n",
       "       [ 10.],\n",
       "       [ 15.],\n",
       "       [  9.],\n",
       "       [ 12.],\n",
       "       [  6.],\n",
       "       [ 13.],\n",
       "       [ 15.],\n",
       "       [ 12.],\n",
       "       [ 11.],\n",
       "       [ 11.],\n",
       "       [  9.],\n",
       "       [ 24.],\n",
       "       [ 55.],\n",
       "       [ 72.],\n",
       "       [101.],\n",
       "       [108.],\n",
       "       [114.],\n",
       "       [138.],\n",
       "       [143.],\n",
       "       [137.],\n",
       "       [129.],\n",
       "       [111.],\n",
       "       [106.],\n",
       "       [117.],\n",
       "       [118.],\n",
       "       [ 81.],\n",
       "       [ 47.],\n",
       "       [ 39.],\n",
       "       [ 27.],\n",
       "       [ 23.],\n",
       "       [ 26.],\n",
       "       [ 20.],\n",
       "       [ 19.],\n",
       "       [ 20.],\n",
       "       [ 22.],\n",
       "       [ 21.],\n",
       "       [ 17.],\n",
       "       [ 17.],\n",
       "       [ 15.],\n",
       "       [ 13.],\n",
       "       [ 14.]], dtype=float32)"
      ]
     },
     "execution_count": 103,
     "metadata": {},
     "output_type": "execute_result"
    }
   ],
   "source": [
    "X_train[0][0]"
   ]
  },
  {
   "cell_type": "code",
   "execution_count": null,
   "metadata": {},
   "outputs": [],
   "source": []
  },
  {
   "cell_type": "code",
   "execution_count": 193,
   "metadata": {},
   "outputs": [
    {
     "name": "stdout",
     "output_type": "stream",
     "text": [
      "Model: \"sequential_27\"\n",
      "_________________________________________________________________\n",
      " Layer (type)                Output Shape              Param #   \n",
      "=================================================================\n",
      " dense_49 (Dense)            (None, 256)               590080    \n",
      "                                                                 \n",
      " batch_normalization_37 (Bat  (None, 256)              1024      \n",
      " chNormalization)                                                \n",
      "                                                                 \n",
      " dense_50 (Dense)            (None, 128)               32896     \n",
      "                                                                 \n",
      " batch_normalization_38 (Bat  (None, 128)              512       \n",
      " chNormalization)                                                \n",
      "                                                                 \n",
      " dense_51 (Dense)            (None, 8)                 1032      \n",
      "                                                                 \n",
      "=================================================================\n",
      "Total params: 625,544\n",
      "Trainable params: 624,776\n",
      "Non-trainable params: 768\n",
      "_________________________________________________________________\n"
     ]
    }
   ],
   "source": [
    "model = keras.Sequential([\n",
    "    Input(X_train.shape[1]),\n",
    "    Dense(256, activation = 'leaky_relu'),\n",
    "    BatchNormalization(axis = 1),\n",
    "    Dense(128, activation = 'relu'),\n",
    "    BatchNormalization(axis = 1),\n",
    "    Dense(8, activation = 'softmax')\n",
    "])\n",
    " \n",
    "model.summary()"
   ]
  },
  {
   "cell_type": "code",
   "execution_count": 195,
   "metadata": {},
   "outputs": [],
   "source": [
    "adam = keras.optimizers.Adam(learning_rate=0.0001)\n",
    "rmsprop = keras.optimizers.RMSprop(learning_rate=0.0001)\n",
    "adagrad = keras.optimizers.Adagrad(learning_rate=0.01)\n",
    "adel = keras.optimizers.Adadelta()\n",
    "model.compile(optimizer=adam, loss='categorical_crossentropy', metrics=['accuracy'])"
   ]
  },
  {
   "cell_type": "code",
   "execution_count": 196,
   "metadata": {},
   "outputs": [
    {
     "name": "stdout",
     "output_type": "stream",
     "text": [
      "Epoch 1/10\n",
      "368/368 [==============================] - 5s 12ms/step - loss: 1.7399 - accuracy: 0.3961 - val_loss: 2.0569 - val_accuracy: 0.3217\n",
      "Epoch 2/10\n",
      "368/368 [==============================] - 4s 11ms/step - loss: 1.4072 - accuracy: 0.5077 - val_loss: 1.8258 - val_accuracy: 0.3972\n",
      "Epoch 3/10\n",
      "368/368 [==============================] - 4s 11ms/step - loss: 1.2711 - accuracy: 0.5526 - val_loss: 1.7388 - val_accuracy: 0.4091\n",
      "Epoch 4/10\n",
      "368/368 [==============================] - 4s 11ms/step - loss: 1.1795 - accuracy: 0.5867 - val_loss: 1.5801 - val_accuracy: 0.4427\n",
      "Epoch 5/10\n",
      "368/368 [==============================] - 4s 12ms/step - loss: 1.0978 - accuracy: 0.6163 - val_loss: 1.7407 - val_accuracy: 0.3958\n",
      "Epoch 6/10\n",
      "368/368 [==============================] - 4s 12ms/step - loss: 1.0292 - accuracy: 0.6406 - val_loss: 1.8794 - val_accuracy: 0.3793\n",
      "Epoch 7/10\n",
      "368/368 [==============================] - 4s 12ms/step - loss: 0.9719 - accuracy: 0.6598 - val_loss: 1.8078 - val_accuracy: 0.3846\n",
      "Epoch 8/10\n",
      "368/368 [==============================] - 4s 11ms/step - loss: 0.9120 - accuracy: 0.6878 - val_loss: 1.5112 - val_accuracy: 0.4770\n",
      "Epoch 9/10\n",
      "368/368 [==============================] - 4s 11ms/step - loss: 0.8656 - accuracy: 0.7047 - val_loss: 1.6697 - val_accuracy: 0.4325\n",
      "Epoch 10/10\n",
      "368/368 [==============================] - 4s 11ms/step - loss: 0.8278 - accuracy: 0.7230 - val_loss: 1.6575 - val_accuracy: 0.4785\n"
     ]
    }
   ],
   "source": [
    "history = model.fit(X_train, y_train, validation_data = (X_test, y_test), epochs = 10)"
   ]
  },
  {
   "cell_type": "code",
   "execution_count": 197,
   "metadata": {},
   "outputs": [
    {
     "name": "stdout",
     "output_type": "stream",
     "text": [
      "368/368 [==============================] - 1s 4ms/step - loss: 1.6575 - accuracy: 0.4785\n",
      "Accuracy of our model on validation data :  47.84863889217377 %\n"
     ]
    }
   ],
   "source": [
    "print(\"Accuracy of our model on validation data : \" , model.evaluate(X_test,y_test)[1]*100 , \"%\")"
   ]
  },
  {
   "cell_type": "code",
   "execution_count": 201,
   "metadata": {},
   "outputs": [
    {
     "data": {
      "text/plain": [
       "[5, 7, 4, 6, 0, 0, 3, 6, 4, 6]"
      ]
     },
     "execution_count": 201,
     "metadata": {},
     "output_type": "execute_result"
    }
   ],
   "source": [
    "predictions = model.predict(X_test)\n",
    "y_pred = []\n",
    "\n",
    "for p in predictions:\n",
    "    y_pred.append(np.argmax(p))\n",
    "y_pred[:10]"
   ]
  },
  {
   "cell_type": "code",
   "execution_count": 202,
   "metadata": {},
   "outputs": [
    {
     "data": {
      "text/plain": [
       "[0, 0, 0, 0, 0, 0, 0, 0, 0, 0]"
      ]
     },
     "execution_count": 202,
     "metadata": {},
     "output_type": "execute_result"
    }
   ],
   "source": [
    "y_actual = []\n",
    "\n",
    "for a in y_test:\n",
    "    y_actual.append(np.argmax(a))\n",
    "y_actual[:10]"
   ]
  },
  {
   "cell_type": "code",
   "execution_count": 203,
   "metadata": {},
   "outputs": [
    {
     "name": "stdout",
     "output_type": "stream",
     "text": [
      "              precision    recall  f1-score   support\n",
      "\n",
      "           0       0.48      0.13      0.21      1112\n",
      "           1       0.12      0.10      0.11       163\n",
      "           2       0.03      0.05      0.04       190\n",
      "           3       0.32      0.29      0.31      1900\n",
      "           4       0.56      0.85      0.68      2449\n",
      "           5       0.54      0.59      0.57      2250\n",
      "           6       0.42      0.43      0.42      2356\n",
      "           7       0.61      0.36      0.45      1340\n",
      "\n",
      "    accuracy                           0.48     11760\n",
      "   macro avg       0.39      0.35      0.35     11760\n",
      "weighted avg       0.47      0.48      0.46     11760\n",
      "\n"
     ]
    }
   ],
   "source": [
    "from sklearn.metrics import confusion_matrix, classification_report\n",
    "print(classification_report(y_actual, y_pred))"
   ]
  },
  {
   "cell_type": "markdown",
   "metadata": {},
   "source": []
  },
  {
   "cell_type": "code",
   "execution_count": 22,
   "metadata": {},
   "outputs": [
    {
     "name": "stdout",
     "output_type": "stream",
     "text": [
      "Model: \"model\"\n",
      "_________________________________________________________________\n",
      " Layer (type)                Output Shape              Param #   \n",
      "=================================================================\n",
      " input (InputLayer)          [(None, 48, 48, 1)]       0         \n",
      "                                                                 \n",
      " conv1_1 (Conv2D)            (None, 48, 48, 64)        640       \n",
      "                                                                 \n",
      " batch_normalization (BatchN  (None, 48, 48, 64)       256       \n",
      " ormalization)                                                   \n",
      "                                                                 \n",
      " conv1_2 (Conv2D)            (None, 48, 48, 64)        36928     \n",
      "                                                                 \n",
      " batch_normalization_1 (Batc  (None, 48, 48, 64)       256       \n",
      " hNormalization)                                                 \n",
      "                                                                 \n",
      " pool1_1 (MaxPooling2D)      (None, 24, 24, 64)        0         \n",
      "                                                                 \n",
      " drop1_1 (Dropout)           (None, 24, 24, 64)        0         \n",
      "                                                                 \n",
      " conv2_1 (Conv2D)            (None, 24, 24, 128)       73856     \n",
      "                                                                 \n",
      " batch_normalization_2 (Batc  (None, 24, 24, 128)      512       \n",
      " hNormalization)                                                 \n",
      "                                                                 \n",
      " conv2_2 (Conv2D)            (None, 24, 24, 128)       147584    \n",
      "                                                                 \n",
      " batch_normalization_3 (Batc  (None, 24, 24, 128)      512       \n",
      " hNormalization)                                                 \n",
      "                                                                 \n",
      " conv2_3 (Conv2D)            (None, 24, 24, 128)       147584    \n",
      "                                                                 \n",
      " pool2_1 (MaxPooling2D)      (None, 12, 12, 128)       0         \n",
      "                                                                 \n",
      " drop2_1 (Dropout)           (None, 12, 12, 128)       0         \n",
      "                                                                 \n",
      " conv3_1 (Conv2D)            (None, 12, 12, 256)       295168    \n",
      "                                                                 \n",
      " batch_normalization_5 (Batc  (None, 12, 12, 256)      1024      \n",
      " hNormalization)                                                 \n",
      "                                                                 \n",
      " conv3_2 (Conv2D)            (None, 12, 12, 256)       590080    \n",
      "                                                                 \n",
      " batch_normalization_6 (Batc  (None, 12, 12, 256)      1024      \n",
      " hNormalization)                                                 \n",
      "                                                                 \n",
      " conv3_3 (Conv2D)            (None, 12, 12, 256)       590080    \n",
      "                                                                 \n",
      " batch_normalization_7 (Batc  (None, 12, 12, 256)      1024      \n",
      " hNormalization)                                                 \n",
      "                                                                 \n",
      " conv3_4 (Conv2D)            (None, 12, 12, 256)       590080    \n",
      "                                                                 \n",
      " batch_normalization_8 (Batc  (None, 12, 12, 256)      1024      \n",
      " hNormalization)                                                 \n",
      "                                                                 \n",
      " pool3_1 (MaxPooling2D)      (None, 6, 6, 256)         0         \n",
      "                                                                 \n",
      " drop3_1 (Dropout)           (None, 6, 6, 256)         0         \n",
      "                                                                 \n",
      " conv4_1 (Conv2D)            (None, 6, 6, 256)         590080    \n",
      "                                                                 \n",
      " batch_normalization_9 (Batc  (None, 6, 6, 256)        1024      \n",
      " hNormalization)                                                 \n",
      "                                                                 \n",
      " conv4_2 (Conv2D)            (None, 6, 6, 256)         590080    \n",
      "                                                                 \n",
      " batch_normalization_10 (Bat  (None, 6, 6, 256)        1024      \n",
      " chNormalization)                                                \n",
      "                                                                 \n",
      " conv4_3 (Conv2D)            (None, 6, 6, 256)         590080    \n",
      "                                                                 \n",
      " batch_normalization_11 (Bat  (None, 6, 6, 256)        1024      \n",
      " chNormalization)                                                \n",
      "                                                                 \n",
      " conv4_4 (Conv2D)            (None, 6, 6, 256)         590080    \n",
      "                                                                 \n",
      " batch_normalization_12 (Bat  (None, 6, 6, 256)        1024      \n",
      " chNormalization)                                                \n",
      "                                                                 \n",
      " pool4_1 (MaxPooling2D)      (None, 3, 3, 256)         0         \n",
      "                                                                 \n",
      " drop4_1 (Dropout)           (None, 3, 3, 256)         0         \n",
      "                                                                 \n",
      " conv5_1 (Conv2D)            (None, 3, 3, 512)         1180160   \n",
      "                                                                 \n",
      " batch_normalization_13 (Bat  (None, 3, 3, 512)        2048      \n",
      " chNormalization)                                                \n",
      "                                                                 \n",
      " conv5_2 (Conv2D)            (None, 3, 3, 512)         2359808   \n",
      "                                                                 \n",
      " batch_normalization_14 (Bat  (None, 3, 3, 512)        2048      \n",
      " chNormalization)                                                \n",
      "                                                                 \n",
      " conv5_3 (Conv2D)            (None, 3, 3, 512)         2359808   \n",
      "                                                                 \n",
      " batch_normalization_15 (Bat  (None, 3, 3, 512)        2048      \n",
      " chNormalization)                                                \n",
      "                                                                 \n",
      " conv5_4 (Conv2D)            (None, 3, 3, 512)         2359808   \n",
      "                                                                 \n",
      " pool5_1 (MaxPooling2D)      (None, 1, 1, 512)         0         \n",
      "                                                                 \n",
      " drop5_1 (Dropout)           (None, 1, 1, 512)         0         \n",
      "                                                                 \n",
      " flatten (Flatten)           (None, 512)               0         \n",
      "                                                                 \n",
      " output (Dense)              (None, 8)                 4104      \n",
      "                                                                 \n",
      "=================================================================\n",
      "Total params: 13,111,880\n",
      "Trainable params: 13,103,944\n",
      "Non-trainable params: 7,936\n",
      "_________________________________________________________________\n",
      "None\n"
     ]
    },
    {
     "name": "stderr",
     "output_type": "stream",
     "text": [
      "c:\\Users\\ANFIELD\\miniconda3\\envs\\tf_new\\lib\\site-packages\\keras\\optimizer_v2\\adam.py:105: UserWarning: The `lr` argument is deprecated, use `learning_rate` instead.\n",
      "  super(Adam, self).__init__(name, **kwargs)\n"
     ]
    }
   ],
   "source": [
    "model = FER_Model()\n",
    "opt = Adam(lr=0.0001, decay=1e-6)\n",
    "model.compile(loss='categorical_crossentropy', optimizer=opt, metrics=['accuracy'])"
   ]
  },
  {
   "cell_type": "code",
   "execution_count": 23,
   "metadata": {},
   "outputs": [],
   "source": [
    "from keras.callbacks import ModelCheckpoint\n",
    "filepath=\"weights_min_loss.hdf5\"\n",
    "checkpoint = ModelCheckpoint(filepath, monitor='val_loss', verbose=1, save_best_only=True, mode='min')\n",
    "callbacks_list = [checkpoint]"
   ]
  },
  {
   "cell_type": "code",
   "execution_count": 208,
   "metadata": {},
   "outputs": [],
   "source": [
    "from keras.applications.imagenet_utils import decode_predictions\n",
    "\n",
    "from efficientnet.keras import EfficientNetB0\n",
    "from efficientnet.keras import center_crop_and_resize, preprocess_input"
   ]
  },
  {
   "cell_type": "code",
   "execution_count": 210,
   "metadata": {},
   "outputs": [],
   "source": [
    "from efficientnet.tfkeras import EfficientNetB0\n",
    "from efficientnet.tfkeras import center_crop_and_resize, preprocess_input"
   ]
  },
  {
   "cell_type": "code",
   "execution_count": 223,
   "metadata": {},
   "outputs": [],
   "source": [
    "import numpy as np\n",
    "import pandas as pd\n",
    "import matplotlib.pyplot as plt\n",
    "import seaborn as sn\n",
    "import skimage.io\n",
    "import keras.backend as K\n",
    "import tensorflow as tf\n",
    "from tensorflow.keras.preprocessing.image import ImageDataGenerator\n",
    "from tensorflow.keras.applications import EfficientNetB0\n",
    "from tensorflow.keras.layers import Dense, Flatten, Dropout,BatchNormalization ,Activation\n",
    "from tensorflow.keras.models import Model, Sequential\n",
    "from keras.applications.nasnet import NASNetLarge\n",
    "from tensorflow.keras.callbacks import ReduceLROnPlateau, ModelCheckpoint, EarlyStopping\n",
    "from tensorflow.keras.optimizers import Adam"
   ]
  },
  {
   "cell_type": "code",
   "execution_count": 406,
   "metadata": {},
   "outputs": [],
   "source": [
    "base_model = tf.keras.applications.EfficientNetB0(input_shape=(48,48,3),include_top=False,weights=\"imagenet\")"
   ]
  },
  {
   "cell_type": "code",
   "execution_count": null,
   "metadata": {},
   "outputs": [],
   "source": []
  },
  {
   "cell_type": "code",
   "execution_count": 407,
   "metadata": {},
   "outputs": [],
   "source": [
    "for layer in base_model.layers[:-4]:\n",
    "    layer.trainable=False"
   ]
  },
  {
   "cell_type": "code",
   "execution_count": 408,
   "metadata": {},
   "outputs": [],
   "source": [
    "model=Sequential()\n",
    "model.add(base_model)\n",
    "\n",
    "model.add(Dropout(0.5))\n",
    "model.add(Flatten())\n",
    "model.add(BatchNormalization())\n",
    "model.add(Dense(256,kernel_initializer='he_uniform'))\n",
    "model.add(BatchNormalization())\n",
    "model.add(Activation('leaky_relu'))\n",
    "model.add(Dropout(0.5))\n",
    "model.add(Dense(128,kernel_initializer='he_uniform'))\n",
    "model.add(BatchNormalization())\n",
    "model.add(Activation('relu'))\n",
    "model.add(Dropout(0.5))\n",
    "model.add(Dense(64,kernel_initializer='he_uniform'))\n",
    "model.add(BatchNormalization())\n",
    "model.add(Activation('relu'))\n",
    "model.add(Dense(8,activation='softmax'))"
   ]
  },
  {
   "cell_type": "code",
   "execution_count": 409,
   "metadata": {},
   "outputs": [
    {
     "name": "stdout",
     "output_type": "stream",
     "text": [
      "Model: \"sequential_31\"\n",
      "_________________________________________________________________\n",
      " Layer (type)                Output Shape              Param #   \n",
      "=================================================================\n",
      " efficientnetb0 (Functional)  (None, 2, 2, 1280)       4049571   \n",
      "                                                                 \n",
      " dropout_13 (Dropout)        (None, 2, 2, 1280)        0         \n",
      "                                                                 \n",
      " flatten_10 (Flatten)        (None, 5120)              0         \n",
      "                                                                 \n",
      " batch_normalization_50 (Bat  (None, 5120)             20480     \n",
      " chNormalization)                                                \n",
      "                                                                 \n",
      " dense_63 (Dense)            (None, 256)               1310976   \n",
      "                                                                 \n",
      " batch_normalization_51 (Bat  (None, 256)              1024      \n",
      " chNormalization)                                                \n",
      "                                                                 \n",
      " activation_6 (Activation)   (None, 256)               0         \n",
      "                                                                 \n",
      " dropout_14 (Dropout)        (None, 256)               0         \n",
      "                                                                 \n",
      " dense_64 (Dense)            (None, 128)               32896     \n",
      "                                                                 \n",
      " batch_normalization_52 (Bat  (None, 128)              512       \n",
      " chNormalization)                                                \n",
      "                                                                 \n",
      " activation_7 (Activation)   (None, 128)               0         \n",
      "                                                                 \n",
      " dropout_15 (Dropout)        (None, 128)               0         \n",
      "                                                                 \n",
      " dense_65 (Dense)            (None, 64)                8256      \n",
      "                                                                 \n",
      " batch_normalization_53 (Bat  (None, 64)               256       \n",
      " chNormalization)                                                \n",
      "                                                                 \n",
      " activation_8 (Activation)   (None, 64)                0         \n",
      "                                                                 \n",
      " dense_66 (Dense)            (None, 8)                 520       \n",
      "                                                                 \n",
      "=================================================================\n",
      "Total params: 5,424,491\n",
      "Trainable params: 1,776,584\n",
      "Non-trainable params: 3,647,907\n",
      "_________________________________________________________________\n"
     ]
    }
   ],
   "source": [
    "model.summary()"
   ]
  },
  {
   "cell_type": "code",
   "execution_count": 410,
   "metadata": {},
   "outputs": [],
   "source": [
    "def f1_score(y_true, y_pred): #taken from old keras source code\n",
    "    true_positives = K.sum(K.round(K.clip(y_true * y_pred, 0, 1)))\n",
    "    possible_positives = K.sum(K.round(K.clip(y_true, 0, 1)))\n",
    "    predicted_positives = K.sum(K.round(K.clip(y_pred, 0, 1)))\n",
    "    precision = true_positives / (predicted_positives + K.epsilon())\n",
    "    recall = true_positives / (possible_positives + K.epsilon())\n",
    "    f1_val = 2*(precision*recall)/(precision+recall+K.epsilon())\n",
    "    return f1_val"
   ]
  },
  {
   "cell_type": "code",
   "execution_count": 411,
   "metadata": {},
   "outputs": [],
   "source": [
    "METRICS = [\n",
    "      tf.keras.metrics.BinaryAccuracy(name='accuracy'),\n",
    "      tf.keras.metrics.Precision(name='precision'),\n",
    "      tf.keras.metrics.Recall(name='recall'),  \n",
    "      tf.keras.metrics.AUC(name='auc'),\n",
    "        f1_score,\n",
    "]"
   ]
  },
  {
   "cell_type": "code",
   "execution_count": 412,
   "metadata": {},
   "outputs": [],
   "source": [
    "lrd = ReduceLROnPlateau(monitor = 'val_loss',patience = 20,verbose = 1,factor = 0.50, min_lr = 1e-10)\n",
    "\n",
    "mcp = ModelCheckpoint('model.h5')\n",
    "\n",
    "es = EarlyStopping(verbose=1, patience=20)"
   ]
  },
  {
   "cell_type": "code",
   "execution_count": 413,
   "metadata": {},
   "outputs": [],
   "source": [
    "model.compile(optimizer='Adam', loss='categorical_crossentropy',metrics=METRICS)"
   ]
  },
  {
   "cell_type": "code",
   "execution_count": 414,
   "metadata": {},
   "outputs": [],
   "source": [
    "tf.config.experimental_run_functions_eagerly(True)"
   ]
  },
  {
   "cell_type": "code",
   "execution_count": 418,
   "metadata": {},
   "outputs": [
    {
     "data": {
      "text/plain": [
       "(47049, 48, 48, 1)"
      ]
     },
     "execution_count": 418,
     "metadata": {},
     "output_type": "execute_result"
    }
   ],
   "source": [
    "X_train_eff.shape"
   ]
  },
  {
   "cell_type": "code",
   "execution_count": 419,
   "metadata": {},
   "outputs": [
    {
     "data": {
      "text/plain": [
       "(11760, 48, 48, 1)"
      ]
     },
     "execution_count": 419,
     "metadata": {},
     "output_type": "execute_result"
    }
   ],
   "source": [
    "X_test_eff.shape"
   ]
  },
  {
   "cell_type": "code",
   "execution_count": 420,
   "metadata": {},
   "outputs": [
    {
     "name": "stdout",
     "output_type": "stream",
     "text": [
      "Epoch 1/10\n"
     ]
    },
    {
     "ename": "UnknownError",
     "evalue": "InternalError: Failed copying input tensor from /job:localhost/replica:0/task:0/device:CPU:0 to /job:localhost/replica:0/task:0/device:GPU:0 in order to run GatherV2: Dst tensor is not initialized. [Op:GatherV2]\nTraceback (most recent call last):\n\n  File \"c:\\Users\\ANFIELD\\miniconda3\\envs\\tf_new\\lib\\site-packages\\tensorflow\\python\\ops\\script_ops.py\", line 269, in __call__\n    return func(device, token, args)\n\n  File \"c:\\Users\\ANFIELD\\miniconda3\\envs\\tf_new\\lib\\site-packages\\tensorflow\\python\\ops\\script_ops.py\", line 147, in __call__\n    outputs = self._call(device, args)\n\n  File \"c:\\Users\\ANFIELD\\miniconda3\\envs\\tf_new\\lib\\site-packages\\tensorflow\\python\\ops\\script_ops.py\", line 154, in _call\n    ret = self._func(*args)\n\n  File \"c:\\Users\\ANFIELD\\miniconda3\\envs\\tf_new\\lib\\site-packages\\tensorflow\\python\\autograph\\impl\\api.py\", line 642, in wrapper\n    return func(*args, **kwargs)\n\n  File \"c:\\Users\\ANFIELD\\miniconda3\\envs\\tf_new\\lib\\site-packages\\tensorflow\\python\\data\\ops\\structured_function.py\", line 220, in py_function_wrapper\n    ret = self._func(*nested_args)\n\n  File \"c:\\Users\\ANFIELD\\miniconda3\\envs\\tf_new\\lib\\site-packages\\keras\\engine\\data_adapter.py\", line 358, in grab_batch\n    return tf.nest.map_structure(lambda d: tf.gather(d, i, axis=0), data)\n\n  File \"c:\\Users\\ANFIELD\\miniconda3\\envs\\tf_new\\lib\\site-packages\\tensorflow\\python\\util\\nest.py\", line 914, in map_structure\n    structure[0], [func(*x) for x in entries],\n\n  File \"c:\\Users\\ANFIELD\\miniconda3\\envs\\tf_new\\lib\\site-packages\\tensorflow\\python\\util\\nest.py\", line 914, in <listcomp>\n    structure[0], [func(*x) for x in entries],\n\n  File \"c:\\Users\\ANFIELD\\miniconda3\\envs\\tf_new\\lib\\site-packages\\keras\\engine\\data_adapter.py\", line 358, in <lambda>\n    return tf.nest.map_structure(lambda d: tf.gather(d, i, axis=0), data)\n\n  File \"c:\\Users\\ANFIELD\\miniconda3\\envs\\tf_new\\lib\\site-packages\\tensorflow\\python\\util\\traceback_utils.py\", line 153, in error_handler\n    raise e.with_traceback(filtered_tb) from None\n\n  File \"c:\\Users\\ANFIELD\\miniconda3\\envs\\tf_new\\lib\\site-packages\\tensorflow\\python\\framework\\ops.py\", line 7186, in raise_from_not_ok_status\n    raise core._status_to_exception(e) from None  # pylint: disable=protected-access\n\ntensorflow.python.framework.errors_impl.InternalError: Failed copying input tensor from /job:localhost/replica:0/task:0/device:CPU:0 to /job:localhost/replica:0/task:0/device:GPU:0 in order to run GatherV2: Dst tensor is not initialized. [Op:GatherV2]\n\n\n\t [[{{node EagerPyFunc}}]] [Op:IteratorGetNext]",
     "output_type": "error",
     "traceback": [
      "\u001b[1;31m---------------------------------------------------------------------------\u001b[0m",
      "\u001b[1;31mUnknownError\u001b[0m                              Traceback (most recent call last)",
      "\u001b[1;32mc:\\Users\\ANFIELD\\Desktop\\tu\\cn240\\ann\\CNN.ipynb Cell 46'\u001b[0m in \u001b[0;36m<cell line: 1>\u001b[1;34m()\u001b[0m\n\u001b[1;32m----> <a href='vscode-notebook-cell:/c%3A/Users/ANFIELD/Desktop/tu/cn240/ann/CNN.ipynb#ch0000041?line=0'>1</a>\u001b[0m history\u001b[39m=\u001b[39mmodel\u001b[39m.\u001b[39;49mfit(X_train_eff,y_train,validation_data\u001b[39m=\u001b[39;49m(X_test_eff,y_test),epochs \u001b[39m=\u001b[39;49m \u001b[39m10\u001b[39;49m,verbose \u001b[39m=\u001b[39;49m \u001b[39m1\u001b[39;49m,callbacks\u001b[39m=\u001b[39;49m[lrd,mcp,es])\n",
      "File \u001b[1;32mc:\\Users\\ANFIELD\\miniconda3\\envs\\tf_new\\lib\\site-packages\\keras\\utils\\traceback_utils.py:67\u001b[0m, in \u001b[0;36mfilter_traceback.<locals>.error_handler\u001b[1;34m(*args, **kwargs)\u001b[0m\n\u001b[0;32m     <a href='file:///c%3A/Users/ANFIELD/miniconda3/envs/tf_new/lib/site-packages/keras/utils/traceback_utils.py?line=64'>65</a>\u001b[0m \u001b[39mexcept\u001b[39;00m \u001b[39mException\u001b[39;00m \u001b[39mas\u001b[39;00m e:  \u001b[39m# pylint: disable=broad-except\u001b[39;00m\n\u001b[0;32m     <a href='file:///c%3A/Users/ANFIELD/miniconda3/envs/tf_new/lib/site-packages/keras/utils/traceback_utils.py?line=65'>66</a>\u001b[0m   filtered_tb \u001b[39m=\u001b[39m _process_traceback_frames(e\u001b[39m.\u001b[39m__traceback__)\n\u001b[1;32m---> <a href='file:///c%3A/Users/ANFIELD/miniconda3/envs/tf_new/lib/site-packages/keras/utils/traceback_utils.py?line=66'>67</a>\u001b[0m   \u001b[39mraise\u001b[39;00m e\u001b[39m.\u001b[39mwith_traceback(filtered_tb) \u001b[39mfrom\u001b[39;00m \u001b[39mNone\u001b[39m\n\u001b[0;32m     <a href='file:///c%3A/Users/ANFIELD/miniconda3/envs/tf_new/lib/site-packages/keras/utils/traceback_utils.py?line=67'>68</a>\u001b[0m \u001b[39mfinally\u001b[39;00m:\n\u001b[0;32m     <a href='file:///c%3A/Users/ANFIELD/miniconda3/envs/tf_new/lib/site-packages/keras/utils/traceback_utils.py?line=68'>69</a>\u001b[0m   \u001b[39mdel\u001b[39;00m filtered_tb\n",
      "File \u001b[1;32mc:\\Users\\ANFIELD\\miniconda3\\envs\\tf_new\\lib\\site-packages\\tensorflow\\python\\framework\\ops.py:7186\u001b[0m, in \u001b[0;36mraise_from_not_ok_status\u001b[1;34m(e, name)\u001b[0m\n\u001b[0;32m   <a href='file:///c%3A/Users/ANFIELD/miniconda3/envs/tf_new/lib/site-packages/tensorflow/python/framework/ops.py?line=7183'>7184</a>\u001b[0m \u001b[39mdef\u001b[39;00m \u001b[39mraise_from_not_ok_status\u001b[39m(e, name):\n\u001b[0;32m   <a href='file:///c%3A/Users/ANFIELD/miniconda3/envs/tf_new/lib/site-packages/tensorflow/python/framework/ops.py?line=7184'>7185</a>\u001b[0m   e\u001b[39m.\u001b[39mmessage \u001b[39m+\u001b[39m\u001b[39m=\u001b[39m (\u001b[39m\"\u001b[39m\u001b[39m name: \u001b[39m\u001b[39m\"\u001b[39m \u001b[39m+\u001b[39m name \u001b[39mif\u001b[39;00m name \u001b[39mis\u001b[39;00m \u001b[39mnot\u001b[39;00m \u001b[39mNone\u001b[39;00m \u001b[39melse\u001b[39;00m \u001b[39m\"\u001b[39m\u001b[39m\"\u001b[39m)\n\u001b[1;32m-> <a href='file:///c%3A/Users/ANFIELD/miniconda3/envs/tf_new/lib/site-packages/tensorflow/python/framework/ops.py?line=7185'>7186</a>\u001b[0m   \u001b[39mraise\u001b[39;00m core\u001b[39m.\u001b[39m_status_to_exception(e) \u001b[39mfrom\u001b[39;00m \u001b[39mNone\u001b[39m\n",
      "\u001b[1;31mUnknownError\u001b[0m: InternalError: Failed copying input tensor from /job:localhost/replica:0/task:0/device:CPU:0 to /job:localhost/replica:0/task:0/device:GPU:0 in order to run GatherV2: Dst tensor is not initialized. [Op:GatherV2]\nTraceback (most recent call last):\n\n  File \"c:\\Users\\ANFIELD\\miniconda3\\envs\\tf_new\\lib\\site-packages\\tensorflow\\python\\ops\\script_ops.py\", line 269, in __call__\n    return func(device, token, args)\n\n  File \"c:\\Users\\ANFIELD\\miniconda3\\envs\\tf_new\\lib\\site-packages\\tensorflow\\python\\ops\\script_ops.py\", line 147, in __call__\n    outputs = self._call(device, args)\n\n  File \"c:\\Users\\ANFIELD\\miniconda3\\envs\\tf_new\\lib\\site-packages\\tensorflow\\python\\ops\\script_ops.py\", line 154, in _call\n    ret = self._func(*args)\n\n  File \"c:\\Users\\ANFIELD\\miniconda3\\envs\\tf_new\\lib\\site-packages\\tensorflow\\python\\autograph\\impl\\api.py\", line 642, in wrapper\n    return func(*args, **kwargs)\n\n  File \"c:\\Users\\ANFIELD\\miniconda3\\envs\\tf_new\\lib\\site-packages\\tensorflow\\python\\data\\ops\\structured_function.py\", line 220, in py_function_wrapper\n    ret = self._func(*nested_args)\n\n  File \"c:\\Users\\ANFIELD\\miniconda3\\envs\\tf_new\\lib\\site-packages\\keras\\engine\\data_adapter.py\", line 358, in grab_batch\n    return tf.nest.map_structure(lambda d: tf.gather(d, i, axis=0), data)\n\n  File \"c:\\Users\\ANFIELD\\miniconda3\\envs\\tf_new\\lib\\site-packages\\tensorflow\\python\\util\\nest.py\", line 914, in map_structure\n    structure[0], [func(*x) for x in entries],\n\n  File \"c:\\Users\\ANFIELD\\miniconda3\\envs\\tf_new\\lib\\site-packages\\tensorflow\\python\\util\\nest.py\", line 914, in <listcomp>\n    structure[0], [func(*x) for x in entries],\n\n  File \"c:\\Users\\ANFIELD\\miniconda3\\envs\\tf_new\\lib\\site-packages\\keras\\engine\\data_adapter.py\", line 358, in <lambda>\n    return tf.nest.map_structure(lambda d: tf.gather(d, i, axis=0), data)\n\n  File \"c:\\Users\\ANFIELD\\miniconda3\\envs\\tf_new\\lib\\site-packages\\tensorflow\\python\\util\\traceback_utils.py\", line 153, in error_handler\n    raise e.with_traceback(filtered_tb) from None\n\n  File \"c:\\Users\\ANFIELD\\miniconda3\\envs\\tf_new\\lib\\site-packages\\tensorflow\\python\\framework\\ops.py\", line 7186, in raise_from_not_ok_status\n    raise core._status_to_exception(e) from None  # pylint: disable=protected-access\n\ntensorflow.python.framework.errors_impl.InternalError: Failed copying input tensor from /job:localhost/replica:0/task:0/device:CPU:0 to /job:localhost/replica:0/task:0/device:GPU:0 in order to run GatherV2: Dst tensor is not initialized. [Op:GatherV2]\n\n\n\t [[{{node EagerPyFunc}}]] [Op:IteratorGetNext]"
     ]
    }
   ],
   "source": [
    "history=model.fit(X_train_eff,y_train,validation_data=(X_test_eff,y_test),epochs = 10,verbose = 1,callbacks=[lrd,mcp,es])"
   ]
  },
  {
   "cell_type": "code",
   "execution_count": 237,
   "metadata": {},
   "outputs": [],
   "source": [
    "from skimage.io import imread"
   ]
  },
  {
   "cell_type": "code",
   "execution_count": 347,
   "metadata": {},
   "outputs": [],
   "source": [
    "list_pixel = []\n",
    "image = cv2.imread(r'C:\\Users\\ANFIELD\\Desktop\\tu\\cn240\\ann\\testpuredata\\Charles_Moose_0002.jpg')\n",
    "\n",
    "image = cv2.resize(image,(48,48))\n",
    "gray = cv2.cvtColor(image, cv2.COLOR_BGR2GRAY)\n",
    "for y in range(48):\n",
    "    for x in range(48):\n",
    "        list_pixel.append(gray[x][y])\n",
    "\n"
   ]
  },
  {
   "cell_type": "code",
   "execution_count": 348,
   "metadata": {},
   "outputs": [],
   "source": [
    "test_data =[]\n",
    "test_data.append(list_pixel)"
   ]
  },
  {
   "cell_type": "code",
   "execution_count": 282,
   "metadata": {},
   "outputs": [],
   "source": [
    "\n"
   ]
  },
  {
   "cell_type": "code",
   "execution_count": 349,
   "metadata": {},
   "outputs": [
    {
     "ename": "AttributeError",
     "evalue": "'int' object has no attribute 'shape'",
     "output_type": "error",
     "traceback": [
      "\u001b[1;31m---------------------------------------------------------------------------\u001b[0m",
      "\u001b[1;31mAttributeError\u001b[0m                            Traceback (most recent call last)",
      "\u001b[1;32mc:\\Users\\ANFIELD\\Desktop\\tu\\cn240\\ann\\CNN.ipynb Cell 48'\u001b[0m in \u001b[0;36m<cell line: 1>\u001b[1;34m()\u001b[0m\n\u001b[1;32m----> <a href='vscode-notebook-cell:/c%3A/Users/ANFIELD/Desktop/tu/cn240/ann/CNN.ipynb#ch0000049?line=0'>1</a>\u001b[0m x\u001b[39m.\u001b[39;49mshape\n",
      "\u001b[1;31mAttributeError\u001b[0m: 'int' object has no attribute 'shape'"
     ]
    }
   ],
   "source": [
    "x.shape"
   ]
  },
  {
   "cell_type": "code",
   "execution_count": null,
   "metadata": {},
   "outputs": [],
   "source": [
    "model_json = model.to_json()\n",
    "with open(\"model.json\", \"w\") as json_file:\n",
    "json_file.write(model_json)\n",
    "model.save_weights(\"model.h5\")\n",
    "print(\"Saved model to disk\")"
   ]
  },
  {
   "cell_type": "markdown",
   "metadata": {},
   "source": []
  },
  {
   "cell_type": "code",
   "execution_count": 277,
   "metadata": {},
   "outputs": [
    {
     "data": {
      "text/plain": [
       "<keras.engine.sequential.Sequential at 0x128ae260670>"
      ]
     },
     "execution_count": 277,
     "metadata": {},
     "output_type": "execute_result"
    }
   ],
   "source": [
    "history.model"
   ]
  },
  {
   "cell_type": "code",
   "execution_count": 368,
   "metadata": {},
   "outputs": [
    {
     "name": "stdout",
     "output_type": "stream",
     "text": [
      "368/368 [==============================] - 48s 131ms/step - loss: 1.1403 - accuracy: 0.9127 - precision: 0.7025 - recall: 0.5227 - auc: 0.9143 - f1_score: 0.5802\n",
      "Accuracy of our model on validation data :  91.26700758934021 %\n"
     ]
    }
   ],
   "source": [
    "print(\"Accuracy of our model on validation data : \" , model.evaluate(X_test_eff,y_test)[1]*100 , \"%\")"
   ]
  },
  {
   "cell_type": "code",
   "execution_count": 369,
   "metadata": {},
   "outputs": [
    {
     "data": {
      "image/png": "[encoded data removed]",
      "text/plain": [
       "<Figure size 432x288 with 1 Axes>"
      ]
     },
     "metadata": {
      "needs_background": "light"
     },
     "output_type": "display_data"
    },
    {
     "data": {
      "image/png": "[encoded data removed]",
      "text/plain": [
       "<Figure size 432x288 with 1 Axes>"
      ]
     },
     "metadata": {
      "needs_background": "light"
     },
     "output_type": "display_data"
    }
   ],
   "source": [
    "plt.plot(history.history['accuracy'])\n",
    "plt.plot(history.history['val_accuracy'])\n",
    "plt.title('model accuracy')\n",
    "plt.ylabel('accuracy')\n",
    "plt.xlabel('epoch')\n",
    "plt.legend(['train', 'test'], loc='upper left')\n",
    "plt.show()\n",
    "# summarize history for loss\n",
    "plt.plot(history.history['loss'])\n",
    "plt.plot(history.history['val_loss'])\n",
    "plt.title('model loss')\n",
    "plt.ylabel('loss')\n",
    "plt.xlabel('epoch')\n",
    "plt.legend(['train', 'test'], loc='upper left')\n",
    "plt.show()"
   ]
  },
  {
   "cell_type": "code",
   "execution_count": 249,
   "metadata": {},
   "outputs": [
    {
     "data": {
      "text/plain": [
       "(48, 48)"
      ]
     },
     "execution_count": 249,
     "metadata": {},
     "output_type": "execute_result"
    }
   ],
   "source": [
    "model_json = model.to_json()\n",
    "with open(\"model.json\", \"w\") as json_file:\n",
    "json_file.write(model_json)\n",
    "model.save_weights(\"model.h5\")\n",
    "print(\"Saved model to disk\")\n",
    "\n"
   ]
  },
  {
   "cell_type": "code",
   "execution_count": 370,
   "metadata": {},
   "outputs": [],
   "source": [
    "tf.data.experimental.enable_debug_mode()"
   ]
  },
  {
   "cell_type": "code",
   "execution_count": 371,
   "metadata": {},
   "outputs": [],
   "source": [
    "test_data = np.array(test_data)"
   ]
  },
  {
   "cell_type": "code",
   "execution_count": null,
   "metadata": {},
   "outputs": [],
   "source": []
  },
  {
   "cell_type": "code",
   "execution_count": 374,
   "metadata": {},
   "outputs": [
    {
     "name": "stdout",
     "output_type": "stream",
     "text": [
      "Prediction probability array is:\n",
      "0 : 0.21326566\n",
      "1 : 0.0033268721\n",
      "2 : 0.0012361738\n",
      "3 : 0.106043085\n",
      "4 : 0.010869525\n",
      "5 : 0.038474154\n",
      "6 : 0.61604077\n",
      "7 : 0.0107438285\n",
      "From which the max choice is: 6\n"
     ]
    },
    {
     "data": {
      "image/png": "[encoded data removed]",
      "text/plain": [
       "<Figure size 432x288 with 1 Axes>"
      ]
     },
     "metadata": {
      "needs_background": "light"
     },
     "output_type": "display_data"
    }
   ],
   "source": [
    "plt.imshow(test_data.reshape(48, 48),cmap='Greys')\n",
    "pred = model.predict(test_data.reshape(1, 48, 48, 1))\n",
    "print(\"Prediction probability array is:\")\n",
    "\n",
    "count = 0\n",
    "\n",
    "for i in pred.squeeze():\n",
    "    print(count, \":\", i)\n",
    "    count += 1\n",
    "\n",
    "print(\"From which the max choice is:\", pred.argmax())\n"
   ]
  },
  {
   "cell_type": "code",
   "execution_count": 375,
   "metadata": {},
   "outputs": [],
   "source": [
    "data_puretest = pd.read_csv(\"real5foldercsv.csv\").head(35280)"
   ]
  },
  {
   "cell_type": "code",
   "execution_count": 376,
   "metadata": {},
   "outputs": [],
   "source": [
    "x_data_puretest = data_puretest['pixels']\n",
    "y_data_puretest = data_puretest['emotion']"
   ]
  },
  {
   "cell_type": "code",
   "execution_count": 377,
   "metadata": {},
   "outputs": [],
   "source": [
    "x_data_puretest_test = x_data_puretest[23521:35280]\n",
    "\n"
   ]
  },
  {
   "cell_type": "code",
   "execution_count": 378,
   "metadata": {},
   "outputs": [],
   "source": [
    "y_data_puretest_test = y_data_puretest[23521:35280]"
   ]
  },
  {
   "cell_type": "code",
   "execution_count": 379,
   "metadata": {},
   "outputs": [],
   "source": [
    "x_puretest =[]"
   ]
  },
  {
   "cell_type": "code",
   "execution_count": 380,
   "metadata": {},
   "outputs": [],
   "source": [
    "for i in x_data_puretest_test:\n",
    "    x_temp = i.split(\" \")\n",
    "    x_temp = np.array(x_temp[:-1],np.float32)\n",
    "    x_puretest.append(x_temp)"
   ]
  },
  {
   "cell_type": "code",
   "execution_count": 381,
   "metadata": {},
   "outputs": [],
   "source": [
    "x_puretest_array = np.array(x_puretest)"
   ]
  },
  {
   "cell_type": "code",
   "execution_count": 382,
   "metadata": {},
   "outputs": [
    {
     "data": {
      "text/plain": [
       "(11759, 2304)"
      ]
     },
     "execution_count": 382,
     "metadata": {},
     "output_type": "execute_result"
    }
   ],
   "source": [
    "x_puretest_array.shape"
   ]
  },
  {
   "cell_type": "code",
   "execution_count": 383,
   "metadata": {},
   "outputs": [],
   "source": [
    "X_puretest_eff = x_puretest_array.reshape(x_puretest_array.shape[0], 48, 48, 1)"
   ]
  },
  {
   "cell_type": "code",
   "execution_count": 384,
   "metadata": {},
   "outputs": [
    {
     "data": {
      "text/plain": [
       "(11759, 48, 48, 1)"
      ]
     },
     "execution_count": 384,
     "metadata": {},
     "output_type": "execute_result"
    }
   ],
   "source": [
    "X_puretest_eff.shape"
   ]
  },
  {
   "cell_type": "code",
   "execution_count": 385,
   "metadata": {},
   "outputs": [],
   "source": [
    "y_puretest_eff = np_utils.to_categorical(y_data_puretest_test, num_classes=8)"
   ]
  },
  {
   "cell_type": "code",
   "execution_count": 390,
   "metadata": {},
   "outputs": [],
   "source": [
    "pred = model.predict(X_test_eff)"
   ]
  },
  {
   "cell_type": "code",
   "execution_count": 391,
   "metadata": {},
   "outputs": [
    {
     "data": {
      "text/plain": [
       "[0, 0, 0, 0, 0, 0, 0, 0, 0, 0]"
      ]
     },
     "execution_count": 391,
     "metadata": {},
     "output_type": "execute_result"
    }
   ],
   "source": [
    "y_actual = []\n",
    "\n",
    "for a in y_test:\n",
    "    y_actual.append(np.argmax(a))\n",
    "y_actual[:10]"
   ]
  },
  {
   "cell_type": "code",
   "execution_count": 393,
   "metadata": {},
   "outputs": [
    {
     "data": {
      "text/plain": [
       "[6, 3, 6, 0, 6, 3, 3, 6, 7, 0]"
      ]
     },
     "execution_count": 393,
     "metadata": {},
     "output_type": "execute_result"
    }
   ],
   "source": [
    "y_pred = []\n",
    "\n",
    "for p in pred:\n",
    "    y_pred.append(np.argmax(p))\n",
    "y_pred[:10]"
   ]
  },
  {
   "cell_type": "code",
   "execution_count": 394,
   "metadata": {},
   "outputs": [
    {
     "data": {
      "text/plain": [
       "Text(69.0, 0.5, 'Truth')"
      ]
     },
     "execution_count": 394,
     "metadata": {},
     "output_type": "execute_result"
    },
    {
     "data": {
      "image/png": "[encoded data removed]",
      "text/plain": [
       "<Figure size 720x576 with 2 Axes>"
      ]
     },
     "metadata": {
      "needs_background": "light"
     },
     "output_type": "display_data"
    }
   ],
   "source": [
    "import seaborn as sn\n",
    "cm = tf.math.confusion_matrix(labels = y_actual, predictions = y_pred)\n",
    "\n",
    "plt.figure(figsize = (10, 8))\n",
    "sn.heatmap(cm, annot = True, fmt = 'd')\n",
    "plt.xlabel('Predicted')\n",
    "plt.ylabel('Truth')"
   ]
  },
  {
   "cell_type": "code",
   "execution_count": 395,
   "metadata": {},
   "outputs": [
    {
     "name": "stdout",
     "output_type": "stream",
     "text": [
      "              precision    recall  f1-score   support\n",
      "\n",
      "           0       0.33      0.25      0.28      1112\n",
      "           1       0.94      0.59      0.72       163\n",
      "           2       0.04      0.02      0.02       190\n",
      "           3       0.42      0.51      0.46      1900\n",
      "           4       0.87      0.88      0.87      2449\n",
      "           5       0.84      0.65      0.73      2250\n",
      "           6       0.47      0.62      0.54      2356\n",
      "           7       0.77      0.63      0.69      1340\n",
      "\n",
      "    accuracy                           0.62     11760\n",
      "   macro avg       0.58      0.52      0.54     11760\n",
      "weighted avg       0.64      0.62      0.62     11760\n",
      "\n"
     ]
    }
   ],
   "source": [
    "from sklearn.metrics import confusion_matrix, classification_report\n",
    "print(classification_report(y_actual, y_pred))"
   ]
  }
 ],
 "metadata": {
  "interpreter": {
   "hash": "560797b7eb71132e99c9cd020bf6f9427a65735a895a60aad5c475b5ecd3ff99"
  },
  "kernelspec": {
   "display_name": "Python 3.10.0 ('tf_new')",
   "language": "python",
   "name": "python3"
  },
  "language_info": {
   "codemirror_mode": {
    "name": "ipython",
    "version": 3
   },
   "file_extension": ".py",
   "mimetype": "text/x-python",
   "name": "python",
   "nbconvert_exporter": "python",
   "pygments_lexer": "ipython3",
   "version": "3.10.0"
  },
  "orig_nbformat": 4
 },
 "nbformat": 4,
 "nbformat_minor": 2
}
