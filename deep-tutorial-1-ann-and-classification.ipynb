{
 "cells": [
  {
   "cell_type": "markdown",
   "metadata": {},
   "source": [
    "## Introduction\n",
    "\n",
    "* [What are ANNs?](#1)\n",
    "* [Types of NNs?](#2)\n",
    "* [Is there a difference between NN and ANN?](#3)\n",
    "* [In what situation does the algorithm fit best?](#4)\n",
    "* [How does ANN work?](#5)\n",
    "* [Activation Function](#6)\n",
    "* [What happens without activation function?](#7)\n",
    "* [How are NNs different from classical models?](#8)\n",
    "* [Implementation](#9)\n",
    "* [Business Problem and EDA](#10)\n",
    "* [Evaluation Metrics](#11)\n",
    "* [Evaluation of Multiple Training Instances](#12)\n",
    "* [Improving the ANN with dropout layer](#13)\n",
    "* [Tuning the ANN](#14)"
   ]
  },
  {
   "cell_type": "code",
   "execution_count": 110,
   "metadata": {
    "_cell_guid": "b1076dfc-b9ad-4769-8c92-a6c4dae69d19",
    "_uuid": "8f2839f25d086af736a60e9eeb907d3b93b6e0e5"
   },
   "outputs": [
    {
     "name": "stdout",
     "output_type": "stream",
     "text": [
      "['.git', '.ipynb_checkpoints', 'ANN_ver2.ipynb', 'bird.ipynb', 'Churn_Modelling.csv', 'condition', 'control', 'convolutional-neural-network-cnn-tutorial.ipynb', 'deep-tutorial-1-ann-and-classification.ipynb', 'embedd_Pbang.ipynb', 'embeded_with_kfold.ipynb', 'exited.ipynb', 'feature_important.ipynb', 'Feature_Selection_Tutorial_7_8_9_Wrapper_Method.ipynb', 'fold', 'Fold2', 'Fold3', 'fold4', 'fold5', 'fold5.zip', 'human-emotion-recognition-using-ann.ipynb', 'image_ann.ipynb', 'master.ipynb', 'muhummed.ipynb', 'new_scores2.csv', 'predict_missing.ipynb', 'README.md', 'ROC.ipynb', 'scores.csv', 'sklearn_recursive_feature_elimination.ipynb', 'testann.ipynb', 'testlinear.py', 'Untitled.ipynb', 'v3_scores.csv', 'validate copy.ipynb', 'validate.ipynb']\n"
     ]
    }
   ],
   "source": [
    "import numpy as np # linear algebra\n",
    "import pandas as pd # data processing, CSV file I/O (e.g. pd.read_csv)\n",
    "import os\n",
    "try:\n",
    "    import theano\n",
    "except:\n",
    "    !pip install Theano\n",
    "import theano\n",
    "import keras\n",
    "import tensorflow\n",
    "import matplotlib.pyplot as plt\n",
    "import seaborn as sns\n",
    "sns.set()\n",
    "print(os.listdir(\"../data\"))\n",
    "\n",
    "# Any results you write to the current directory are saved as output."
   ]
  },
  {
   "cell_type": "markdown",
   "metadata": {},
   "source": [
    "<a id=\"1\"></a>\n",
    "# 1. What are ANNs?\n",
    "\n",
    "#### Artificial neural networks are one of the main tools used in machine learning. As the “neural” part of their name suggests, they are brain-inspired systems which are intended to replicate the way that we humans learn. Neural networks consist of input and output layers, as well as (in most cases) a hidden layer consisting of units that transform the input into something that the output layer can use. ANNs have three layers that are interconnected. The first layer consists of input neurons. Those neurons send data on to the second layer, which in turn sends the output neurons to the third layer. ANNs are considered non-linear statistical data modeling tools where the complex relationships between inputs and outputs are modeled or patterns are found. Note that a neuron can also be referred to as a perceptron.\n",
    "\n",
    "Note: The way layers would be created, arranged, assigned, number of neurons the layers would hold and other such questions come under architecture designing for neural networks. It is a common thing while starting out to have these queries. Architecture of NNs is an ocean frankly, one can gain knowledge of it only by exploring it, working on different problems optimising for better solutions by trial and error. There are some thumb rules that are known but since the complexity of the mechanism is such there are a very few detailed proofs of why some things work for some problems and some don't."
   ]
  },
  {
   "cell_type": "markdown",
   "metadata": {},
   "source": [
    "![](https://icdn6.digitaltrends.com/image/artificial_neural_network_1-720x720.jpg)"
   ]
  },
  {
   "cell_type": "markdown",
   "metadata": {},
   "source": [
    "#### For a basic idea of how a deep learning neural network learns, imagine a factory line. After the raw materials (the data set) are input, they are then passed down the conveyer belt, with each subsequent stop or layer extracting a different set of high-level features. If the network is intended to recognize an object, the first layer might analyze the brightness of its pixels. The next layer could then identify any edges in the image, based on lines of similar pixels. After this, another layer may recognize textures and shapes, and so on. By the time the fourth or fifth layer is reached, the deep learning net will have created complex feature detectors. It can figure out that certain image elements (such as a pair of eyes, a nose, and a mouth) are commonly found together.\n",
    "\n",
    "#### Once this is done, the researchers who have trained the network can give labels to the output, and then use backpropagation to correct any mistakes which have been made. After a while, the network can carry out its own classification tasks without needing humans to help every time."
   ]
  },
  {
   "cell_type": "markdown",
   "metadata": {},
   "source": [
    "<a id=\"2\"></a>\n",
    "# 2. Types of Neural Network\n",
    "\n",
    "#### There are multiple types of neural network, each of which come with their own specific use cases and levels of complexity. The most basic type of neural net is something called a feedforward neural network, in which information travels in only one direction from input to output. A more widely used type of network is the recurrent neural network, in which data can flow in multiple directions. These neural networks possess greater learning abilities and are widely employed for more complex tasks such as learning handwriting or language recognition.\n",
    "\n",
    "#### There are also convolutional neural networks, Boltzmann machine networks, Hopfield networks, and a variety of others. Picking the right network for your task depends on the data you have to train it with, and the specific application you have in mind. In some cases, it may be desirable to use multiple approaches, such as would be the case with a challenging task like voice recognition."
   ]
  },
  {
   "cell_type": "markdown",
   "metadata": {},
   "source": [
    "![](https://i.stack.imgur.com/LgmYv.png)"
   ]
  },
  {
   "cell_type": "markdown",
   "metadata": {},
   "source": [
    "<a id=\"3\"></a>\n",
    "# 3. Is there a difference between NN and ANN?\n",
    "#### Neural Network is a broad term that encompases various types of networks which were shown above. Is ANN one of the types? Well to understand this it is important to realise that neural network alone is not an algorithm but a framework which assists the algorithms to work. ANN is the most basic type of implementation of neurals. ANN was the term coined much earlier and nowadays the two terms are interchangeably used.\n"
   ]
  },
  {
   "cell_type": "markdown",
   "metadata": {},
   "source": [
    "<a id=\"4\"></a>\n",
    "# 4. In what situation does the algorithm fit best?\n",
    "\n",
    "#### ANN is rarely used for predictive modelling. The reason being that Artificial Neural Networks (ANN) usually tries to over-fit the relationship. ANN is generally used in cases where what has happened in past is repeated almost exactly in same way. For example, say we are playing the game of Black Jack against a computer. An intelligent opponent based on ANN would be a very good opponent in this case (assuming they can manage to keep the computation time low). With time ANN will train itself for all possible cases of card flow. And given that we are not shuffling cards with a dealer, ANN will be able to memorize every single call. Hence, it is a kind of machine learning technique which has enormous memory. But it does not work well in case where scoring population is significantly different compared to training sample. For instance, if I plan to target customer for a campaign using their past response by an ANN. I will probably be using a wrong technique as it might have over-fitted the relationship between the response and other predictors."
   ]
  },
  {
   "cell_type": "markdown",
   "metadata": {},
   "source": [
    "<a id=\"5\"></a>\n",
    "# 5. How does ANN work?\n",
    "#### It is truly said that the working of ANN takes its roots from the neural network residing in human brain. ANN operates on something referred to as Hidden State. These hidden states are similar to neurons. Each of these hidden state is a transient form which has a probabilistic behavior. A grid of such hidden state act as a bridge between the input and the output. \n",
    "#### We have an input layer which is the data we provide to the ANN. We have the hidden layers, which is where the magic happens. Lastly, we have the output layer, which is where the finished computations of the network are placed for us to use.\n",
    "\n",
    "\n",
    "\n"
   ]
  },
  {
   "cell_type": "markdown",
   "metadata": {},
   "source": [
    "![](http://cdn-images-1.medium.com/max/600/1*f0hA2R652htmc1EaDrgG8g.png)"
   ]
  },
  {
   "cell_type": "markdown",
   "metadata": {},
   "source": [
    "#### Initially the weights of the network can be randomly. When the input in given to the input layer the process moves forward and the hidden layer receives the input combined with the weights. This process goes on till the final layer of output is reached and result is given. When the result is out it is compared to the actual value and a back propagation algorithm comes into play to adjust the weights of the network linkages to better the result. What do the neurons in the layers then do? They are responsible for the learning individually. They consist of activation function that allows the signal to pass or not depending on which activation function is being used and what input came from the previous layer. We'll see activation functions in detail now."
   ]
  },
  {
   "cell_type": "markdown",
   "metadata": {},
   "source": [
    "![](http://www.analyticsvidhya.com/blog/wp-content/uploads/2014/10/flowchart-ANN.png)"
   ]
  },
  {
   "cell_type": "markdown",
   "metadata": {},
   "source": [
    "<a id=\"6\"></a>\n",
    "# 6. Activation Function\n",
    "#### Activation functions are really important for a Artificial Neural Network to learn and make sense of something really complicated and Non-linear complex functional mappings between the inputs and response variable.They introduce non-linear properties to our Network.Their main purpose is to convert a input signal of a node in a A-NN to an output signal. That output signal now is used as a input in the next layer in the stack.\n",
    "\n",
    "#### Specifically in A-NN we do the sum of products of inputs(X) and their corresponding Weights(W) and apply a Activation function f(x) to it to get the output of that layer and feed it as an input to the next layer.\n",
    "\n"
   ]
  },
  {
   "cell_type": "markdown",
   "metadata": {},
   "source": [
    "#### Most popular types of Activation functions -\n",
    "* Sigmoid or Logistic\n",
    "* Tanh — Hyperbolic tangent\n",
    "* ReLu -Rectified linear units\n",
    "\n",
    "**Sigmoid Activation function**: It is a activation function of form f(x) = 1 / 1 + exp(-x) . Its Range is between 0 and 1. It is a S — shaped curve. It is easy to understand and apply but it has major reasons which have made it fall out of popularity -\n",
    "\n",
    "* Vanishing gradient problem\n",
    "* Secondly , its output isn’t zero centered. It makes the gradient updates go too far in different directions. 0 < output < 1, and it makes optimization harder.\n",
    "* Sigmoids saturate and kill gradients.\n",
    "* Sigmoids have slow convergence.\n",
    "\n",
    "\n",
    "![](http://cdn-images-1.medium.com/max/1600/0*WYB0K0zk1MiIB6xp.png)\n",
    "\n",
    "\n",
    "\n",
    "**Hyperbolic Tangent function- Tanh** : It’s mathamatical formula is f(x) = 1 — exp(-2x) / 1 + exp(-2x). Now it’s output is zero centered because its range in between -1 to 1 i.e -1 < output < 1 . Hence optimization is easier in this method hence in practice it is always preferred over Sigmoid function . But still it suffers from Vanishing gradient problem.\n",
    "\n",
    "\n",
    "![](http://cdn-images-1.medium.com/max/1600/0*VHhGS4NwibecRjIa.png)\n",
    "\n",
    "**ReLu- Rectified Linear units** : It has become very popular in the past couple of years. It was recently proved that it had 6 times improvement in convergence from Tanh function. It’s just R(x) = max(0,x) i.e if x < 0 , R(x) = 0 and if x >= 0 , R(x) = x. Hence as seeing the mathamatical form of this function we can see that it is very simple and efficinent . A lot of times in Machine learning and computer science we notice that most simple and consistent techniques and methods are only preferred and are best. Hence it avoids and rectifies vanishing gradient problem . Almost all deep learning Models use ReLu nowadays.\n",
    "\n",
    "But its limitation is that it should only be used within Hidden layers of a Neural Network Model.\n",
    "\n",
    "Hence for output layers we should use a Softmax function for a Classification problem to compute the probabilites for the classes , and for a regression problem it should simply use a linear function.\n",
    "\n",
    "Another problem with ReLu is that some gradients can be fragile during training and can die. It can cause a weight update which will makes it never activate on any data point again. Simply saying that ReLu could result in Dead Neurons.\n",
    "\n",
    "To fix this problem another modification was introduced called Leaky ReLu to fix the problem of dying neurons. It introduces a small slope to keep the updates alive.\n",
    "\n",
    "We then have another variant made form both ReLu and Leaky ReLu called Maxout function .\n",
    "\n",
    "![](http://cdn-images-1.medium.com/max/1600/0*qtfLu9rmtNullrVC.png)"
   ]
  },
  {
   "cell_type": "markdown",
   "metadata": {},
   "source": [
    "<a id=\"7\"></a>\n",
    "# 7. What happens without activation function?\n",
    "#### If we do not apply a Activation function then the output signal would simply be a simple linear function.A linear function is just a polynomial of one degree. Now, a linear equation is easy to solve but they are limited in their complexity and have less power to learn complex functional mappings from data. A Neural Network without Activation function would simply be a Linear regression Model, which has limited power and does not performs good most of the times. We want our Neural Network to not just learn and compute a linear function but something more complicated than that. Also without activation function our Neural network would not be able to learn and model other complicated kinds of data such as images, videos , audio , speech etc. That is why we use Artificial Neural network techniques such as Deep learning to make sense of something complicated ,high dimensional,non-linear -big datasets, where the model has lots and lots of hidden layers in between and has a very complicated architecture which helps us to make sense and extract knowledge form such complicated big datasets."
   ]
  },
  {
   "cell_type": "markdown",
   "metadata": {},
   "source": [
    "<a id=\"8\"></a>\n",
    "# 8. How are NNs different from classical models?\n",
    "#### To better understand artificial neural computing it is important to know first how a conventional 'serial' computer and it's software process information. A serial computer has a central processor that can address an array of memory locations where data and instructions are stored. Computations are made by the processor reading an instruction as well as any data the instruction requires from memory addresses, the instruction is then executed and the results are saved in a specified memory location as required. In a serial system (and a standard parallel one as well) the computational steps are deterministic, sequential and logical, and the state of a given variable can be tracked from one operation to another.\n",
    "\n",
    "#### In comparison, ANNs are not sequential or necessarily deterministic. There are no complex central processors, rather there are many simple ones which generally do nothing more than take the weighted sum of their inputs from other processors. ANNs do not execute programed instructions; they respond in parallel (either simulated or actual) to the pattern of inputs presented to it. There are also no separate memory addresses for storing data. Instead, information is contained in the overall activation 'state' of the network. 'Knowledge' is thus represented by the network itself, which is quite literally more than the sum of its individual components."
   ]
  },
  {
   "cell_type": "markdown",
   "metadata": {},
   "source": [
    "<a id='9'></a>\n",
    "# 9. Implementation"
   ]
  },
  {
   "cell_type": "markdown",
   "metadata": {},
   "source": [
    "#### A brief about the NN libraries:\n",
    "#### Theano is an open source numerical computation library based on numpy syntax. It can run not only on the CPU ( Central Processing Unit) but also the GPU (Graphical Processing Unit). GPU is a processor for graphic purposes somewhat similar to a graphic card. GPU is much more powerful in terms of efficiency etc. because it has more cores and is able to run more floating points calculations per second than the CPU. GPU is highly specialised for heavy, parallel computations which is a requirement in Neural Networks that we are about to see.\n",
    "#### How parallel computation comes into play in NNs? When we are forward propagating the different activations of neurons for the activation function or when we back propagate the error. Also calculations can be carried out faster this way. Theano was developed at the University of Montreal.\n",
    "\n",
    "#### Tensorflow is similar to Theano. It's been developed by Google.\n",
    "\n",
    "#### However the point to consider is that these two libraries are more towards the research and development side of Neural Networks. If we were to create a model from scratch and make some improvements in it, experiment or something these two would be great but right now we would be using Keras for beginning till we step up. Keras in some way wraps the two libraries for us and provides small and easy to implement modules of code."
   ]
  },
  {
   "cell_type": "markdown",
   "metadata": {},
   "source": [
    "<a id='10'></a>\n",
    "# 10. Business Problem and EDA\n",
    "\n",
    "#### Our Business problem which I have chosen for this tutorial is a classification problem wherein we have a dataset in which there are details of a bank's customers and the target variable is a binary variable reflecting the fact whether the customer left the bank (closed his account) or he continues to be a customer."
   ]
  },
  {
   "cell_type": "code",
   "execution_count": 111,
   "metadata": {},
   "outputs": [],
   "source": [
    "# Importing the dataset\n",
    "churn_data = pd.read_csv('new_scores2.csv',index_col='number')"
   ]
  },
  {
   "cell_type": "code",
   "execution_count": 112,
   "metadata": {},
   "outputs": [
    {
     "name": "stdout",
     "output_type": "stream",
     "text": [
      "<class 'pandas.core.frame.DataFrame'>\n",
      "Index: 55 entries, condition_1 to control_32\n",
      "Data columns (total 20 columns):\n",
      " #   Column        Non-Null Count  Dtype  \n",
      "---  ------        --------------  -----  \n",
      " 0   Unnamed: 0    55 non-null     int64  \n",
      " 1   days          55 non-null     int64  \n",
      " 2   gender        55 non-null     int64  \n",
      " 3   age           55 non-null     object \n",
      " 4   afftype       55 non-null     int64  \n",
      " 5   melanch       55 non-null     int64  \n",
      " 6   inpatient     55 non-null     int64  \n",
      " 7   marriage      55 non-null     int64  \n",
      " 8   work          55 non-null     int64  \n",
      " 9   madrs1        55 non-null     int64  \n",
      " 10  madrs2        55 non-null     int64  \n",
      " 11  DeltaMADRS    23 non-null     float64\n",
      " 12  Mean_MeanAct  55 non-null     float64\n",
      " 13  Mean_Q99Act   55 non-null     float64\n",
      " 14  Std_MeanAct   55 non-null     float64\n",
      " 15  Std_Q99Act    55 non-null     float64\n",
      " 16  CV_MeanAct    55 non-null     float64\n",
      " 17  CV_Q99Act     55 non-null     float64\n",
      " 18  Stress        55 non-null     float64\n",
      " 19  depressed     55 non-null     int64  \n",
      "dtypes: float64(8), int64(11), object(1)\n",
      "memory usage: 9.0+ KB\n"
     ]
    }
   ],
   "source": [
    "churn_data.info()"
   ]
  },
  {
   "cell_type": "code",
   "execution_count": 113,
   "metadata": {},
   "outputs": [
    {
     "data": {
      "text/html": [
       "<div>\n",
       "<style scoped>\n",
       "    .dataframe tbody tr th:only-of-type {\n",
       "        vertical-align: middle;\n",
       "    }\n",
       "\n",
       "    .dataframe tbody tr th {\n",
       "        vertical-align: top;\n",
       "    }\n",
       "\n",
       "    .dataframe thead th {\n",
       "        text-align: right;\n",
       "    }\n",
       "</style>\n",
       "<table border=\"1\" class=\"dataframe\">\n",
       "  <thead>\n",
       "    <tr style=\"text-align: right;\">\n",
       "      <th></th>\n",
       "      <th>Unnamed: 0</th>\n",
       "      <th>days</th>\n",
       "      <th>gender</th>\n",
       "      <th>afftype</th>\n",
       "      <th>melanch</th>\n",
       "      <th>inpatient</th>\n",
       "      <th>marriage</th>\n",
       "      <th>work</th>\n",
       "      <th>madrs1</th>\n",
       "      <th>madrs2</th>\n",
       "      <th>DeltaMADRS</th>\n",
       "      <th>Mean_MeanAct</th>\n",
       "      <th>Mean_Q99Act</th>\n",
       "      <th>Std_MeanAct</th>\n",
       "      <th>Std_Q99Act</th>\n",
       "      <th>CV_MeanAct</th>\n",
       "      <th>CV_Q99Act</th>\n",
       "      <th>Stress</th>\n",
       "      <th>depressed</th>\n",
       "    </tr>\n",
       "  </thead>\n",
       "  <tbody>\n",
       "    <tr>\n",
       "      <th>count</th>\n",
       "      <td>55.000000</td>\n",
       "      <td>55.000000</td>\n",
       "      <td>55.000000</td>\n",
       "      <td>55.000000</td>\n",
       "      <td>55.000000</td>\n",
       "      <td>55.000000</td>\n",
       "      <td>55.000000</td>\n",
       "      <td>55.000000</td>\n",
       "      <td>55.000000</td>\n",
       "      <td>55.000000</td>\n",
       "      <td>23.000000</td>\n",
       "      <td>55.000000</td>\n",
       "      <td>55.000000</td>\n",
       "      <td>55.000000</td>\n",
       "      <td>55.000000</td>\n",
       "      <td>55.000000</td>\n",
       "      <td>55.000000</td>\n",
       "      <td>55.000000</td>\n",
       "      <td>55.000000</td>\n",
       "    </tr>\n",
       "    <tr>\n",
       "      <th>mean</th>\n",
       "      <td>13.618182</td>\n",
       "      <td>12.600000</td>\n",
       "      <td>1.454545</td>\n",
       "      <td>0.727273</td>\n",
       "      <td>0.818182</td>\n",
       "      <td>1.836364</td>\n",
       "      <td>1.490909</td>\n",
       "      <td>1.563636</td>\n",
       "      <td>16.054545</td>\n",
       "      <td>13.763636</td>\n",
       "      <td>-2.739130</td>\n",
       "      <td>227.574659</td>\n",
       "      <td>1528.091898</td>\n",
       "      <td>72.480591</td>\n",
       "      <td>372.249226</td>\n",
       "      <td>0.317571</td>\n",
       "      <td>0.238123</td>\n",
       "      <td>421529.852055</td>\n",
       "      <td>0.418182</td>\n",
       "    </tr>\n",
       "    <tr>\n",
       "      <th>std</th>\n",
       "      <td>8.618436</td>\n",
       "      <td>2.491467</td>\n",
       "      <td>0.502519</td>\n",
       "      <td>0.932034</td>\n",
       "      <td>0.983021</td>\n",
       "      <td>0.373355</td>\n",
       "      <td>0.504525</td>\n",
       "      <td>0.500505</td>\n",
       "      <td>7.387222</td>\n",
       "      <td>6.912050</td>\n",
       "      <td>3.968253</td>\n",
       "      <td>84.454662</td>\n",
       "      <td>425.320954</td>\n",
       "      <td>36.327576</td>\n",
       "      <td>262.076381</td>\n",
       "      <td>0.108064</td>\n",
       "      <td>0.119594</td>\n",
       "      <td>175193.860506</td>\n",
       "      <td>0.497807</td>\n",
       "    </tr>\n",
       "    <tr>\n",
       "      <th>min</th>\n",
       "      <td>0.000000</td>\n",
       "      <td>5.000000</td>\n",
       "      <td>1.000000</td>\n",
       "      <td>0.000000</td>\n",
       "      <td>0.000000</td>\n",
       "      <td>1.000000</td>\n",
       "      <td>1.000000</td>\n",
       "      <td>1.000000</td>\n",
       "      <td>2.000000</td>\n",
       "      <td>1.000000</td>\n",
       "      <td>-13.000000</td>\n",
       "      <td>65.370585</td>\n",
       "      <td>665.491429</td>\n",
       "      <td>9.301415</td>\n",
       "      <td>96.547265</td>\n",
       "      <td>0.130202</td>\n",
       "      <td>0.083808</td>\n",
       "      <td>108752.230800</td>\n",
       "      <td>0.000000</td>\n",
       "    </tr>\n",
       "    <tr>\n",
       "      <th>25%</th>\n",
       "      <td>6.500000</td>\n",
       "      <td>13.000000</td>\n",
       "      <td>1.000000</td>\n",
       "      <td>0.000000</td>\n",
       "      <td>0.000000</td>\n",
       "      <td>2.000000</td>\n",
       "      <td>1.000000</td>\n",
       "      <td>1.000000</td>\n",
       "      <td>12.000000</td>\n",
       "      <td>9.500000</td>\n",
       "      <td>-5.000000</td>\n",
       "      <td>167.426910</td>\n",
       "      <td>1248.410166</td>\n",
       "      <td>49.670823</td>\n",
       "      <td>199.524838</td>\n",
       "      <td>0.242959</td>\n",
       "      <td>0.152735</td>\n",
       "      <td>279456.503200</td>\n",
       "      <td>0.000000</td>\n",
       "    </tr>\n",
       "    <tr>\n",
       "      <th>50%</th>\n",
       "      <td>13.000000</td>\n",
       "      <td>13.000000</td>\n",
       "      <td>1.000000</td>\n",
       "      <td>0.000000</td>\n",
       "      <td>0.000000</td>\n",
       "      <td>2.000000</td>\n",
       "      <td>1.000000</td>\n",
       "      <td>2.000000</td>\n",
       "      <td>15.000000</td>\n",
       "      <td>13.000000</td>\n",
       "      <td>-3.000000</td>\n",
       "      <td>225.280602</td>\n",
       "      <td>1508.420000</td>\n",
       "      <td>64.431611</td>\n",
       "      <td>305.621435</td>\n",
       "      <td>0.317973</td>\n",
       "      <td>0.199776</td>\n",
       "      <td>419756.000000</td>\n",
       "      <td>0.000000</td>\n",
       "    </tr>\n",
       "    <tr>\n",
       "      <th>75%</th>\n",
       "      <td>20.000000</td>\n",
       "      <td>13.000000</td>\n",
       "      <td>2.000000</td>\n",
       "      <td>2.000000</td>\n",
       "      <td>2.000000</td>\n",
       "      <td>2.000000</td>\n",
       "      <td>2.000000</td>\n",
       "      <td>2.000000</td>\n",
       "      <td>22.000000</td>\n",
       "      <td>18.500000</td>\n",
       "      <td>0.000000</td>\n",
       "      <td>291.073041</td>\n",
       "      <td>1786.441429</td>\n",
       "      <td>86.787844</td>\n",
       "      <td>465.722995</td>\n",
       "      <td>0.375382</td>\n",
       "      <td>0.305437</td>\n",
       "      <td>575368.786300</td>\n",
       "      <td>1.000000</td>\n",
       "    </tr>\n",
       "    <tr>\n",
       "      <th>max</th>\n",
       "      <td>31.000000</td>\n",
       "      <td>20.000000</td>\n",
       "      <td>2.000000</td>\n",
       "      <td>3.000000</td>\n",
       "      <td>2.000000</td>\n",
       "      <td>2.000000</td>\n",
       "      <td>2.000000</td>\n",
       "      <td>2.000000</td>\n",
       "      <td>29.000000</td>\n",
       "      <td>28.000000</td>\n",
       "      <td>4.000000</td>\n",
       "      <td>407.458697</td>\n",
       "      <td>2635.942143</td>\n",
       "      <td>166.280241</td>\n",
       "      <td>1520.288118</td>\n",
       "      <td>0.581268</td>\n",
       "      <td>0.594511</td>\n",
       "      <td>759032.375000</td>\n",
       "      <td>1.000000</td>\n",
       "    </tr>\n",
       "  </tbody>\n",
       "</table>\n",
       "</div>"
      ],
      "text/plain": [
       "       Unnamed: 0       days     gender    afftype    melanch  inpatient  \\\n",
       "count   55.000000  55.000000  55.000000  55.000000  55.000000  55.000000   \n",
       "mean    13.618182  12.600000   1.454545   0.727273   0.818182   1.836364   \n",
       "std      8.618436   2.491467   0.502519   0.932034   0.983021   0.373355   \n",
       "min      0.000000   5.000000   1.000000   0.000000   0.000000   1.000000   \n",
       "25%      6.500000  13.000000   1.000000   0.000000   0.000000   2.000000   \n",
       "50%     13.000000  13.000000   1.000000   0.000000   0.000000   2.000000   \n",
       "75%     20.000000  13.000000   2.000000   2.000000   2.000000   2.000000   \n",
       "max     31.000000  20.000000   2.000000   3.000000   2.000000   2.000000   \n",
       "\n",
       "        marriage       work     madrs1     madrs2  DeltaMADRS  Mean_MeanAct  \\\n",
       "count  55.000000  55.000000  55.000000  55.000000   23.000000     55.000000   \n",
       "mean    1.490909   1.563636  16.054545  13.763636   -2.739130    227.574659   \n",
       "std     0.504525   0.500505   7.387222   6.912050    3.968253     84.454662   \n",
       "min     1.000000   1.000000   2.000000   1.000000  -13.000000     65.370585   \n",
       "25%     1.000000   1.000000  12.000000   9.500000   -5.000000    167.426910   \n",
       "50%     1.000000   2.000000  15.000000  13.000000   -3.000000    225.280602   \n",
       "75%     2.000000   2.000000  22.000000  18.500000    0.000000    291.073041   \n",
       "max     2.000000   2.000000  29.000000  28.000000    4.000000    407.458697   \n",
       "\n",
       "       Mean_Q99Act  Std_MeanAct   Std_Q99Act  CV_MeanAct  CV_Q99Act  \\\n",
       "count    55.000000    55.000000    55.000000   55.000000  55.000000   \n",
       "mean   1528.091898    72.480591   372.249226    0.317571   0.238123   \n",
       "std     425.320954    36.327576   262.076381    0.108064   0.119594   \n",
       "min     665.491429     9.301415    96.547265    0.130202   0.083808   \n",
       "25%    1248.410166    49.670823   199.524838    0.242959   0.152735   \n",
       "50%    1508.420000    64.431611   305.621435    0.317973   0.199776   \n",
       "75%    1786.441429    86.787844   465.722995    0.375382   0.305437   \n",
       "max    2635.942143   166.280241  1520.288118    0.581268   0.594511   \n",
       "\n",
       "              Stress  depressed  \n",
       "count      55.000000  55.000000  \n",
       "mean   421529.852055   0.418182  \n",
       "std    175193.860506   0.497807  \n",
       "min    108752.230800   0.000000  \n",
       "25%    279456.503200   0.000000  \n",
       "50%    419756.000000   0.000000  \n",
       "75%    575368.786300   1.000000  \n",
       "max    759032.375000   1.000000  "
      ]
     },
     "execution_count": 113,
     "metadata": {},
     "output_type": "execute_result"
    }
   ],
   "source": [
    "churn_data.describe()"
   ]
  },
  {
   "cell_type": "code",
   "execution_count": 114,
   "metadata": {},
   "outputs": [
    {
     "data": {
      "text/html": [
       "<div>\n",
       "<style scoped>\n",
       "    .dataframe tbody tr th:only-of-type {\n",
       "        vertical-align: middle;\n",
       "    }\n",
       "\n",
       "    .dataframe tbody tr th {\n",
       "        vertical-align: top;\n",
       "    }\n",
       "\n",
       "    .dataframe thead th {\n",
       "        text-align: right;\n",
       "    }\n",
       "</style>\n",
       "<table border=\"1\" class=\"dataframe\">\n",
       "  <thead>\n",
       "    <tr style=\"text-align: right;\">\n",
       "      <th></th>\n",
       "      <th>Unnamed: 0</th>\n",
       "      <th>days</th>\n",
       "      <th>gender</th>\n",
       "      <th>age</th>\n",
       "      <th>afftype</th>\n",
       "      <th>melanch</th>\n",
       "      <th>inpatient</th>\n",
       "      <th>marriage</th>\n",
       "      <th>work</th>\n",
       "      <th>madrs1</th>\n",
       "      <th>madrs2</th>\n",
       "      <th>DeltaMADRS</th>\n",
       "      <th>Mean_MeanAct</th>\n",
       "      <th>Mean_Q99Act</th>\n",
       "      <th>Std_MeanAct</th>\n",
       "      <th>Std_Q99Act</th>\n",
       "      <th>CV_MeanAct</th>\n",
       "      <th>CV_Q99Act</th>\n",
       "      <th>Stress</th>\n",
       "      <th>depressed</th>\n",
       "    </tr>\n",
       "    <tr>\n",
       "      <th>number</th>\n",
       "      <th></th>\n",
       "      <th></th>\n",
       "      <th></th>\n",
       "      <th></th>\n",
       "      <th></th>\n",
       "      <th></th>\n",
       "      <th></th>\n",
       "      <th></th>\n",
       "      <th></th>\n",
       "      <th></th>\n",
       "      <th></th>\n",
       "      <th></th>\n",
       "      <th></th>\n",
       "      <th></th>\n",
       "      <th></th>\n",
       "      <th></th>\n",
       "      <th></th>\n",
       "      <th></th>\n",
       "      <th></th>\n",
       "      <th></th>\n",
       "    </tr>\n",
       "  </thead>\n",
       "  <tbody>\n",
       "    <tr>\n",
       "      <th>condition_1</th>\n",
       "      <td>0</td>\n",
       "      <td>11</td>\n",
       "      <td>2</td>\n",
       "      <td>35-39</td>\n",
       "      <td>2</td>\n",
       "      <td>2</td>\n",
       "      <td>2</td>\n",
       "      <td>1</td>\n",
       "      <td>2</td>\n",
       "      <td>19</td>\n",
       "      <td>19</td>\n",
       "      <td>0.0</td>\n",
       "      <td>152.199630</td>\n",
       "      <td>1248.365333</td>\n",
       "      <td>59.218240</td>\n",
       "      <td>537.750628</td>\n",
       "      <td>0.389083</td>\n",
       "      <td>0.430764</td>\n",
       "      <td>310514.5455</td>\n",
       "      <td>1</td>\n",
       "    </tr>\n",
       "    <tr>\n",
       "      <th>condition_2</th>\n",
       "      <td>1</td>\n",
       "      <td>18</td>\n",
       "      <td>2</td>\n",
       "      <td>40-44</td>\n",
       "      <td>1</td>\n",
       "      <td>2</td>\n",
       "      <td>2</td>\n",
       "      <td>2</td>\n",
       "      <td>2</td>\n",
       "      <td>24</td>\n",
       "      <td>11</td>\n",
       "      <td>-13.0</td>\n",
       "      <td>211.280738</td>\n",
       "      <td>1538.777368</td>\n",
       "      <td>80.924414</td>\n",
       "      <td>528.810407</td>\n",
       "      <td>0.383018</td>\n",
       "      <td>0.343656</td>\n",
       "      <td>332308.5556</td>\n",
       "      <td>1</td>\n",
       "    </tr>\n",
       "    <tr>\n",
       "      <th>condition_3</th>\n",
       "      <td>2</td>\n",
       "      <td>13</td>\n",
       "      <td>1</td>\n",
       "      <td>45-49</td>\n",
       "      <td>2</td>\n",
       "      <td>2</td>\n",
       "      <td>2</td>\n",
       "      <td>2</td>\n",
       "      <td>2</td>\n",
       "      <td>24</td>\n",
       "      <td>25</td>\n",
       "      <td>1.0</td>\n",
       "      <td>280.810714</td>\n",
       "      <td>1605.270000</td>\n",
       "      <td>61.577770</td>\n",
       "      <td>287.349708</td>\n",
       "      <td>0.219286</td>\n",
       "      <td>0.179004</td>\n",
       "      <td>441785.2308</td>\n",
       "      <td>1</td>\n",
       "    </tr>\n",
       "    <tr>\n",
       "      <th>condition_4</th>\n",
       "      <td>3</td>\n",
       "      <td>13</td>\n",
       "      <td>2</td>\n",
       "      <td>25-29</td>\n",
       "      <td>2</td>\n",
       "      <td>2</td>\n",
       "      <td>2</td>\n",
       "      <td>1</td>\n",
       "      <td>1</td>\n",
       "      <td>20</td>\n",
       "      <td>16</td>\n",
       "      <td>-4.0</td>\n",
       "      <td>286.064732</td>\n",
       "      <td>1710.240714</td>\n",
       "      <td>166.280241</td>\n",
       "      <td>609.340002</td>\n",
       "      <td>0.581268</td>\n",
       "      <td>0.356289</td>\n",
       "      <td>455771.7692</td>\n",
       "      <td>1</td>\n",
       "    </tr>\n",
       "    <tr>\n",
       "      <th>condition_5</th>\n",
       "      <td>4</td>\n",
       "      <td>13</td>\n",
       "      <td>2</td>\n",
       "      <td>50-54</td>\n",
       "      <td>2</td>\n",
       "      <td>2</td>\n",
       "      <td>2</td>\n",
       "      <td>2</td>\n",
       "      <td>2</td>\n",
       "      <td>26</td>\n",
       "      <td>26</td>\n",
       "      <td>0.0</td>\n",
       "      <td>172.622371</td>\n",
       "      <td>1300.538571</td>\n",
       "      <td>46.444164</td>\n",
       "      <td>259.816491</td>\n",
       "      <td>0.269051</td>\n",
       "      <td>0.199776</td>\n",
       "      <td>276509.0769</td>\n",
       "      <td>1</td>\n",
       "    </tr>\n",
       "  </tbody>\n",
       "</table>\n",
       "</div>"
      ],
      "text/plain": [
       "             Unnamed: 0  days  gender    age  afftype  melanch  inpatient  \\\n",
       "number                                                                      \n",
       "condition_1           0    11       2  35-39        2        2          2   \n",
       "condition_2           1    18       2  40-44        1        2          2   \n",
       "condition_3           2    13       1  45-49        2        2          2   \n",
       "condition_4           3    13       2  25-29        2        2          2   \n",
       "condition_5           4    13       2  50-54        2        2          2   \n",
       "\n",
       "             marriage  work  madrs1  madrs2  DeltaMADRS  Mean_MeanAct  \\\n",
       "number                                                                  \n",
       "condition_1         1     2      19      19         0.0    152.199630   \n",
       "condition_2         2     2      24      11       -13.0    211.280738   \n",
       "condition_3         2     2      24      25         1.0    280.810714   \n",
       "condition_4         1     1      20      16        -4.0    286.064732   \n",
       "condition_5         2     2      26      26         0.0    172.622371   \n",
       "\n",
       "             Mean_Q99Act  Std_MeanAct  Std_Q99Act  CV_MeanAct  CV_Q99Act  \\\n",
       "number                                                                     \n",
       "condition_1  1248.365333    59.218240  537.750628    0.389083   0.430764   \n",
       "condition_2  1538.777368    80.924414  528.810407    0.383018   0.343656   \n",
       "condition_3  1605.270000    61.577770  287.349708    0.219286   0.179004   \n",
       "condition_4  1710.240714   166.280241  609.340002    0.581268   0.356289   \n",
       "condition_5  1300.538571    46.444164  259.816491    0.269051   0.199776   \n",
       "\n",
       "                  Stress  depressed  \n",
       "number                               \n",
       "condition_1  310514.5455          1  \n",
       "condition_2  332308.5556          1  \n",
       "condition_3  441785.2308          1  \n",
       "condition_4  455771.7692          1  \n",
       "condition_5  276509.0769          1  "
      ]
     },
     "execution_count": 114,
     "metadata": {},
     "output_type": "execute_result"
    }
   ],
   "source": [
    "churn_data.head()"
   ]
  },
  {
   "cell_type": "code",
   "execution_count": 115,
   "metadata": {},
   "outputs": [],
   "source": [
    "# some columns are totally unproductive so let's remove them\n",
    "churn_data.drop([\"Unnamed: 0\",\"age\",\"DeltaMADRS\",\"days\",'CV_MeanAct','CV_Q99Act',\"Stress\",\"afftype\", \"melanch\",\"inpatient\",\"Mean_Q99Act\",\"Std_MeanAct\",\"Std_Q99Act\"    ],axis=1,inplace=True)"
   ]
  },
  {
   "cell_type": "code",
   "execution_count": 116,
   "metadata": {},
   "outputs": [
    {
     "data": {
      "text/html": [
       "<div>\n",
       "<style scoped>\n",
       "    .dataframe tbody tr th:only-of-type {\n",
       "        vertical-align: middle;\n",
       "    }\n",
       "\n",
       "    .dataframe tbody tr th {\n",
       "        vertical-align: top;\n",
       "    }\n",
       "\n",
       "    .dataframe thead th {\n",
       "        text-align: right;\n",
       "    }\n",
       "</style>\n",
       "<table border=\"1\" class=\"dataframe\">\n",
       "  <thead>\n",
       "    <tr style=\"text-align: right;\">\n",
       "      <th></th>\n",
       "      <th>gender</th>\n",
       "      <th>marriage</th>\n",
       "      <th>work</th>\n",
       "      <th>madrs1</th>\n",
       "      <th>madrs2</th>\n",
       "      <th>Mean_MeanAct</th>\n",
       "      <th>depressed</th>\n",
       "    </tr>\n",
       "    <tr>\n",
       "      <th>number</th>\n",
       "      <th></th>\n",
       "      <th></th>\n",
       "      <th></th>\n",
       "      <th></th>\n",
       "      <th></th>\n",
       "      <th></th>\n",
       "      <th></th>\n",
       "    </tr>\n",
       "  </thead>\n",
       "  <tbody>\n",
       "    <tr>\n",
       "      <th>condition_1</th>\n",
       "      <td>2</td>\n",
       "      <td>1</td>\n",
       "      <td>2</td>\n",
       "      <td>19</td>\n",
       "      <td>19</td>\n",
       "      <td>152.199630</td>\n",
       "      <td>1</td>\n",
       "    </tr>\n",
       "    <tr>\n",
       "      <th>condition_2</th>\n",
       "      <td>2</td>\n",
       "      <td>2</td>\n",
       "      <td>2</td>\n",
       "      <td>24</td>\n",
       "      <td>11</td>\n",
       "      <td>211.280738</td>\n",
       "      <td>1</td>\n",
       "    </tr>\n",
       "    <tr>\n",
       "      <th>condition_3</th>\n",
       "      <td>1</td>\n",
       "      <td>2</td>\n",
       "      <td>2</td>\n",
       "      <td>24</td>\n",
       "      <td>25</td>\n",
       "      <td>280.810714</td>\n",
       "      <td>1</td>\n",
       "    </tr>\n",
       "    <tr>\n",
       "      <th>condition_4</th>\n",
       "      <td>2</td>\n",
       "      <td>1</td>\n",
       "      <td>1</td>\n",
       "      <td>20</td>\n",
       "      <td>16</td>\n",
       "      <td>286.064732</td>\n",
       "      <td>1</td>\n",
       "    </tr>\n",
       "    <tr>\n",
       "      <th>condition_5</th>\n",
       "      <td>2</td>\n",
       "      <td>2</td>\n",
       "      <td>2</td>\n",
       "      <td>26</td>\n",
       "      <td>26</td>\n",
       "      <td>172.622371</td>\n",
       "      <td>1</td>\n",
       "    </tr>\n",
       "  </tbody>\n",
       "</table>\n",
       "</div>"
      ],
      "text/plain": [
       "             gender  marriage  work  madrs1  madrs2  Mean_MeanAct  depressed\n",
       "number                                                                      \n",
       "condition_1       2         1     2      19      19    152.199630          1\n",
       "condition_2       2         2     2      24      11    211.280738          1\n",
       "condition_3       1         2     2      24      25    280.810714          1\n",
       "condition_4       2         1     1      20      16    286.064732          1\n",
       "condition_5       2         2     2      26      26    172.622371          1"
      ]
     },
     "execution_count": 116,
     "metadata": {},
     "output_type": "execute_result"
    }
   ],
   "source": [
    "churn_data.head()"
   ]
  },
  {
   "cell_type": "code",
   "execution_count": 117,
   "metadata": {},
   "outputs": [],
   "source": [
    "# some columns have text data so let's one hot encode them\n",
    "#  for more on one hot encoding click this link below\n",
    "# https://www.kaggle.com/shrutimechlearn/types-of-regression-and-stats-in-depth\n",
    "#Geography_dummies = pd.get_dummies(prefix='Geo',data=churn_data,columns=['Geography'])"
   ]
  },
  {
   "cell_type": "code",
   "execution_count": 118,
   "metadata": {},
   "outputs": [],
   "source": [
    "#Geography_dummies.head()"
   ]
  },
  {
   "cell_type": "code",
   "execution_count": 119,
   "metadata": {},
   "outputs": [],
   "source": [
    "#Gender_dummies = Geography_dummies.replace(to_replace={'Gender': {'Female': 1,'Male':0}})"
   ]
  },
  {
   "cell_type": "code",
   "execution_count": 120,
   "metadata": {},
   "outputs": [],
   "source": [
    "#Gender_dummies.head()"
   ]
  },
  {
   "cell_type": "code",
   "execution_count": 121,
   "metadata": {},
   "outputs": [
    {
     "data": {
      "text/plain": [
       "pandas.core.frame.DataFrame"
      ]
     },
     "execution_count": 121,
     "metadata": {},
     "output_type": "execute_result"
    }
   ],
   "source": [
    "churn_data_encoded = churn_data\n",
    "type(churn_data_encoded)"
   ]
  },
  {
   "cell_type": "code",
   "execution_count": 122,
   "metadata": {},
   "outputs": [
    {
     "data": {
      "image/png": "[encoded data removed]",
      "text/plain": [
       "<Figure size 432x288 with 1 Axes>"
      ]
     },
     "metadata": {},
     "output_type": "display_data"
    }
   ],
   "source": [
    "sns.countplot(y=churn_data_encoded.depressed ,data=churn_data_encoded)\n",
    "plt.xlabel(\"Count of each Target class\")\n",
    "plt.ylabel(\"Target classes\")\n",
    "plt.show()"
   ]
  },
  {
   "cell_type": "code",
   "execution_count": 123,
   "metadata": {},
   "outputs": [
    {
     "data": {
      "image/png": "[encoded data removed]",
      "text/plain": [
       "<Figure size 1080x864 with 9 Axes>"
      ]
     },
     "metadata": {},
     "output_type": "display_data"
    }
   ],
   "source": [
    "churn_data_encoded.hist(figsize=(15,12),bins = 15)\n",
    "plt.title(\"Features Distribution\")\n",
    "plt.show()"
   ]
  },
  {
   "cell_type": "code",
   "execution_count": 124,
   "metadata": {},
   "outputs": [
    {
     "data": {
      "image/png": "[encoded data removed]",
      "text/plain": [
       "<Figure size 1080x1080 with 2 Axes>"
      ]
     },
     "metadata": {},
     "output_type": "display_data"
    }
   ],
   "source": [
    "plt.figure(figsize=(15,15))\n",
    "p=sns.heatmap(churn_data_encoded.corr(), annot=True,cmap='RdYlGn',center=0) "
   ]
  },
  {
   "cell_type": "code",
   "execution_count": 125,
   "metadata": {},
   "outputs": [
    {
     "data": {
      "image/png": "[encoded data removed]",
      "text/plain": [
       "<Figure size 2160x2160 with 12 Axes>"
      ]
     },
     "metadata": {},
     "output_type": "display_data"
    }
   ],
   "source": [
    "fig,ax = plt.subplots(nrows = 4, ncols=3, figsize=(30,30))\n",
    "row = 0\n",
    "col = 0\n",
    "for i in range(len(churn_data_encoded.columns) -1):\n",
    "    if col > 2:\n",
    "        row += 1\n",
    "        col = 0\n",
    "    axes = ax[row,col]\n",
    "    sns.boxplot(x = churn_data_encoded['depressed'], y = churn_data_encoded[churn_data_encoded.columns[i]],ax = axes)\n",
    "    col += 1\n",
    "plt.tight_layout()\n",
    "# plt.title(\"Individual Features by Class\")\n",
    "plt.show()"
   ]
  },
  {
   "cell_type": "code",
   "execution_count": 126,
   "metadata": {},
   "outputs": [],
   "source": [
    "X = churn_data_encoded.drop(['depressed'],axis=1)\n",
    "y = churn_data_encoded.depressed"
   ]
  },
  {
   "cell_type": "code",
   "execution_count": 127,
   "metadata": {},
   "outputs": [
    {
     "data": {
      "text/html": [
       "<div>\n",
       "<style scoped>\n",
       "    .dataframe tbody tr th:only-of-type {\n",
       "        vertical-align: middle;\n",
       "    }\n",
       "\n",
       "    .dataframe tbody tr th {\n",
       "        vertical-align: top;\n",
       "    }\n",
       "\n",
       "    .dataframe thead th {\n",
       "        text-align: right;\n",
       "    }\n",
       "</style>\n",
       "<table border=\"1\" class=\"dataframe\">\n",
       "  <thead>\n",
       "    <tr style=\"text-align: right;\">\n",
       "      <th></th>\n",
       "      <th>gender</th>\n",
       "      <th>marriage</th>\n",
       "      <th>work</th>\n",
       "      <th>madrs1</th>\n",
       "      <th>madrs2</th>\n",
       "      <th>Mean_MeanAct</th>\n",
       "    </tr>\n",
       "    <tr>\n",
       "      <th>number</th>\n",
       "      <th></th>\n",
       "      <th></th>\n",
       "      <th></th>\n",
       "      <th></th>\n",
       "      <th></th>\n",
       "      <th></th>\n",
       "    </tr>\n",
       "  </thead>\n",
       "  <tbody>\n",
       "    <tr>\n",
       "      <th>condition_1</th>\n",
       "      <td>2</td>\n",
       "      <td>1</td>\n",
       "      <td>2</td>\n",
       "      <td>19</td>\n",
       "      <td>19</td>\n",
       "      <td>152.199630</td>\n",
       "    </tr>\n",
       "    <tr>\n",
       "      <th>condition_2</th>\n",
       "      <td>2</td>\n",
       "      <td>2</td>\n",
       "      <td>2</td>\n",
       "      <td>24</td>\n",
       "      <td>11</td>\n",
       "      <td>211.280738</td>\n",
       "    </tr>\n",
       "    <tr>\n",
       "      <th>condition_3</th>\n",
       "      <td>1</td>\n",
       "      <td>2</td>\n",
       "      <td>2</td>\n",
       "      <td>24</td>\n",
       "      <td>25</td>\n",
       "      <td>280.810714</td>\n",
       "    </tr>\n",
       "    <tr>\n",
       "      <th>condition_4</th>\n",
       "      <td>2</td>\n",
       "      <td>1</td>\n",
       "      <td>1</td>\n",
       "      <td>20</td>\n",
       "      <td>16</td>\n",
       "      <td>286.064732</td>\n",
       "    </tr>\n",
       "    <tr>\n",
       "      <th>condition_5</th>\n",
       "      <td>2</td>\n",
       "      <td>2</td>\n",
       "      <td>2</td>\n",
       "      <td>26</td>\n",
       "      <td>26</td>\n",
       "      <td>172.622371</td>\n",
       "    </tr>\n",
       "    <tr>\n",
       "      <th>condition_6</th>\n",
       "      <td>1</td>\n",
       "      <td>1</td>\n",
       "      <td>2</td>\n",
       "      <td>18</td>\n",
       "      <td>15</td>\n",
       "      <td>194.754861</td>\n",
       "    </tr>\n",
       "    <tr>\n",
       "      <th>condition_7</th>\n",
       "      <td>1</td>\n",
       "      <td>2</td>\n",
       "      <td>1</td>\n",
       "      <td>24</td>\n",
       "      <td>25</td>\n",
       "      <td>295.975588</td>\n",
       "    </tr>\n",
       "    <tr>\n",
       "      <th>condition_8</th>\n",
       "      <td>2</td>\n",
       "      <td>1</td>\n",
       "      <td>2</td>\n",
       "      <td>20</td>\n",
       "      <td>16</td>\n",
       "      <td>200.443750</td>\n",
       "    </tr>\n",
       "    <tr>\n",
       "      <th>condition_9</th>\n",
       "      <td>2</td>\n",
       "      <td>1</td>\n",
       "      <td>2</td>\n",
       "      <td>26</td>\n",
       "      <td>26</td>\n",
       "      <td>177.031624</td>\n",
       "    </tr>\n",
       "    <tr>\n",
       "      <th>condition_10</th>\n",
       "      <td>2</td>\n",
       "      <td>1</td>\n",
       "      <td>2</td>\n",
       "      <td>28</td>\n",
       "      <td>21</td>\n",
       "      <td>296.403373</td>\n",
       "    </tr>\n",
       "  </tbody>\n",
       "</table>\n",
       "</div>"
      ],
      "text/plain": [
       "              gender  marriage  work  madrs1  madrs2  Mean_MeanAct\n",
       "number                                                            \n",
       "condition_1        2         1     2      19      19    152.199630\n",
       "condition_2        2         2     2      24      11    211.280738\n",
       "condition_3        1         2     2      24      25    280.810714\n",
       "condition_4        2         1     1      20      16    286.064732\n",
       "condition_5        2         2     2      26      26    172.622371\n",
       "condition_6        1         1     2      18      15    194.754861\n",
       "condition_7        1         2     1      24      25    295.975588\n",
       "condition_8        2         1     2      20      16    200.443750\n",
       "condition_9        2         1     2      26      26    177.031624\n",
       "condition_10       2         1     2      28      21    296.403373"
      ]
     },
     "execution_count": 127,
     "metadata": {},
     "output_type": "execute_result"
    }
   ],
   "source": [
    "X.head(10)"
   ]
  },
  {
   "cell_type": "code",
   "execution_count": 128,
   "metadata": {},
   "outputs": [],
   "source": [
    "# Splitting the dataset into the Training set and Test set\n",
    "from sklearn.model_selection import train_test_split\n",
    "X_train, X_test, y_train, y_test = train_test_split(X, y, test_size = 0.20, random_state = 5)\n"
   ]
  },
  {
   "cell_type": "code",
   "execution_count": 129,
   "metadata": {},
   "outputs": [],
   "source": [
    "# Feature Scaling because yes we don't want one independent variable dominating the other and it makes computations easy\n",
    "from sklearn.preprocessing import StandardScaler\n",
    "sc = StandardScaler()\n",
    "X_train = sc.fit_transform(X_train)\n",
    "X_test = sc.transform(X_test)"
   ]
  },
  {
   "cell_type": "code",
   "execution_count": 130,
   "metadata": {},
   "outputs": [],
   "source": [
    "# sequential model to initialise our ann and dense module to build the layers\n",
    "from keras.models import Sequential\n",
    "from keras.layers import Dense"
   ]
  },
  {
   "cell_type": "code",
   "execution_count": 131,
   "metadata": {},
   "outputs": [
    {
     "name": "stdout",
     "output_type": "stream",
     "text": [
      "3/3 [==============================] - 0s 5ms/step - loss: 0.1937 - accuracy: 0.9091\n",
      "Train score: 0.19374150037765503\n",
      "Train accuracy: 0.9090909361839294\n",
      "********************\n",
      "1/1 [==============================] - 0s 31ms/step - loss: 0.2003 - accuracy: 0.9091\n",
      "Test score: 0.20027679204940796\n",
      "Test accuracy: 0.9090909361839294\n"
     ]
    }
   ],
   "source": [
    "classifier = Sequential()\n",
    "# Adding the input layer and the first hidden layer\n",
    "classifier.add(Dense(units = 6, kernel_initializer = 'uniform', activation = 'leaky_relu', input_dim = 6))\n",
    "\n",
    "# Adding the second hidden layer\n",
    "classifier.add(Dense(units = 6, kernel_initializer = 'uniform', activation = 'leaky_relu'))\n",
    "\n",
    "# Adding the output layer\n",
    "classifier.add(Dense(units = 1, kernel_initializer = 'uniform', activation = 'sigmoid'))\n",
    "\n",
    "# Compiling the ANN | means applying SGD on the whole ANN\n",
    "classifier.compile(optimizer = 'adam', loss = 'binary_crossentropy', metrics = ['accuracy'])\n",
    "\n",
    "# Fitting the ANN to the Training set\n",
    "classifier.fit(X_train, y_train, batch_size = 16, epochs = 100,verbose = 0)\n",
    "\n",
    "score, acc = classifier.evaluate(X_train, y_train,\n",
    "                            batch_size=16)\n",
    "print('Train score:', score)\n",
    "print('Train accuracy:', acc)\n",
    "# Part 3 - Making predictions and evaluating the model\n",
    "\n",
    "# Predicting the Test set results\n",
    "y_pred = classifier.predict(X_test)\n",
    "y_pred = (y_pred > 0.5)\n",
    "\n",
    "print('*'*20)\n",
    "score, acc = classifier.evaluate(X_test, y_test,\n",
    "                            batch_size=16)\n",
    "print('Test score:', score)\n",
    "print('Test accuracy:', acc)\n",
    "# Making the Confusion Matrix\n",
    "from sklearn.metrics import confusion_matrix\n",
    "cm = confusion_matrix(y_test, y_pred)"
   ]
  },
  {
   "cell_type": "code",
   "execution_count": 132,
   "metadata": {},
   "outputs": [
    {
     "data": {
      "text/plain": [
       "array([[-0.91287093,  1.14707867,  0.87177979,  0.10623963,  0.02358587,\n",
       "        -0.29255856],\n",
       "       [-0.91287093, -0.87177979, -1.14707867, -0.03124695,  0.02358587,\n",
       "        -0.38091125],\n",
       "       [ 1.09544512,  1.14707867,  0.87177979, -0.3062201 , -0.27292227,\n",
       "         0.7060049 ],\n",
       "       [-0.91287093,  1.14707867, -1.14707867,  0.10623963, -1.16244669,\n",
       "        -0.41758324],\n",
       "       [ 1.09544512,  1.14707867,  0.87177979,  1.20613222,  1.06136437,\n",
       "        -0.81850093],\n",
       "       [-0.91287093,  1.14707867,  0.87177979,  1.06864565,  1.65438066,\n",
       "         0.68950763],\n",
       "       [-0.91287093,  1.14707867,  0.87177979, -1.68108584, -1.31070076,\n",
       "         0.80241429],\n",
       "       [-0.91287093, -0.87177979, -1.14707867, -0.3062201 , -0.27292227,\n",
       "         0.43512882],\n",
       "       [ 1.09544512,  1.14707867, -1.14707867, -0.99365297, -1.01419262,\n",
       "         1.59118651],\n",
       "       [ 1.09544512, -0.87177979, -1.14707867, -1.81857241, -1.16244669,\n",
       "         1.85491664],\n",
       "       [ 1.09544512,  1.14707867,  0.87177979,  1.34361879,  1.80263473,\n",
       "        -0.57906646]])"
      ]
     },
     "execution_count": 132,
     "metadata": {},
     "output_type": "execute_result"
    }
   ],
   "source": [
    "X_test"
   ]
  },
  {
   "cell_type": "markdown",
   "metadata": {},
   "source": [
    "<a id='11'></a>\n",
    "# 11. Evaluation Metrics"
   ]
  },
  {
   "cell_type": "code",
   "execution_count": 133,
   "metadata": {},
   "outputs": [
    {
     "data": {
      "text/plain": [
       "Text(0.5, 12.5, 'Predicted label')"
      ]
     },
     "execution_count": 133,
     "metadata": {},
     "output_type": "execute_result"
    },
    {
     "data": {
      "image/png": "[encoded data removed]",
      "text/plain": [
       "<Figure size 432x288 with 2 Axes>"
      ]
     },
     "metadata": {},
     "output_type": "display_data"
    }
   ],
   "source": [
    "\n",
    "p = sns.heatmap(pd.DataFrame(cm), annot=True, cmap=\"YlGnBu\" ,fmt='g')\n",
    "plt.title('Confusion matrix', y=1.1)\n",
    "plt.ylabel('Actual label')\n",
    "plt.xlabel('Predicted label')"
   ]
  },
  {
   "cell_type": "code",
   "execution_count": 134,
   "metadata": {},
   "outputs": [
    {
     "name": "stdout",
     "output_type": "stream",
     "text": [
      "              precision    recall  f1-score   support\n",
      "\n",
      "           0       1.00      0.88      0.93         8\n",
      "           1       0.75      1.00      0.86         3\n",
      "\n",
      "    accuracy                           0.91        11\n",
      "   macro avg       0.88      0.94      0.90        11\n",
      "weighted avg       0.93      0.91      0.91        11\n",
      "\n"
     ]
    }
   ],
   "source": [
    "#import classification_report\n",
    "from sklearn.metrics import classification_report\n",
    "print(classification_report(y_test,y_pred))"
   ]
  },
  {
   "cell_type": "code",
   "execution_count": 135,
   "metadata": {},
   "outputs": [
    {
     "data": {
      "image/png": "[encoded data removed]",
      "text/plain": [
       "<Figure size 432x288 with 1 Axes>"
      ]
     },
     "metadata": {},
     "output_type": "display_data"
    }
   ],
   "source": [
    "from sklearn.metrics import roc_curve\n",
    "y_pred_proba = classifier.predict(X_test)\n",
    "fpr, tpr, thresholds = roc_curve(y_test, y_pred_proba)\n",
    "plt.plot([0,1],[0,1],'k--')\n",
    "plt.plot(fpr,tpr, label='ANN')\n",
    "plt.xlabel('fpr')\n",
    "plt.ylabel('tpr')\n",
    "plt.title('ROC curve')\n",
    "plt.show()"
   ]
  },
  {
   "cell_type": "code",
   "execution_count": 136,
   "metadata": {},
   "outputs": [
    {
     "data": {
      "text/plain": [
       "1.0"
      ]
     },
     "execution_count": 136,
     "metadata": {},
     "output_type": "execute_result"
    }
   ],
   "source": [
    "#Area under ROC curve\n",
    "from sklearn.metrics import roc_auc_score\n",
    "roc_auc_score(y_test,y_pred_proba)"
   ]
  },
  {
   "cell_type": "markdown",
   "metadata": {},
   "source": [
    "<a id='12'></a>\n",
    "# 12. Evaluation of Multiple Training Instances"
   ]
  },
  {
   "cell_type": "code",
   "execution_count": 158,
   "metadata": {},
   "outputs": [
    {
     "name": "stderr",
     "output_type": "stream",
     "text": [
      "C:\\Users\\james\\AppData\\Local\\Temp\\ipykernel_29480\\3966692584.py:15: DeprecationWarning: KerasClassifier is deprecated, use Sci-Keras (https://github.com/adriangb/scikeras) instead. See https://www.adriangb.com/scikeras/stable/migration.html for help migrating.\n",
      "  classifier = KerasClassifier(build_fn = build_classifier, batch_size = 16, epochs = 100,verbose=0)\n"
     ]
    }
   ],
   "source": [
    "# Part 4 - Evaluating, Improving and Tuning the ANN\n",
    "\n",
    "# Evaluating the ANN\n",
    "from keras.wrappers.scikit_learn import KerasClassifier\n",
    "from sklearn.model_selection import cross_val_score\n",
    "from keras.models import Sequential\n",
    "from keras.layers import Dense\n",
    "def build_classifier():\n",
    "    classifier = Sequential()\n",
    "    classifier.add(Dense(units = 6, kernel_initializer = 'uniform', activation = 'relu', input_dim = 6))\n",
    "    classifier.add(Dense(units = 6, kernel_initializer = 'uniform', activation = 'relu'))\n",
    "    classifier.add(Dense(units = 1, kernel_initializer = 'uniform', activation = 'sigmoid'))\n",
    "    classifier.compile(optimizer = 'rmsprop', loss = 'binary_crossentropy', metrics = ['accuracy'])\n",
    "    return classifier\n",
    "classifier = KerasClassifier(build_fn = build_classifier, batch_size = 16, epochs = 100,verbose=0)\n",
    "accuracies = cross_val_score(estimator = classifier, X = X_train, y = y_train, cv = 5)\n",
    "mean = accuracies.mean()\n",
    "variance = accuracies.std()"
   ]
  },
  {
   "cell_type": "code",
   "execution_count": 157,
   "metadata": {},
   "outputs": [
    {
     "name": "stdout",
     "output_type": "stream",
     "text": [
      "Mean accuracy score of 10 different models using Kfold cross validation: 0.7027777910232544\n",
      "Standard Deviation of accuracy score of 10 different models using Kfold cross validation: 0.15406026667262795\n"
     ]
    }
   ],
   "source": [
    "print('Mean accuracy score of 10 different models using Kfold cross validation: {}'.format(mean))\n",
    "print('Standard Deviation of accuracy score of 10 different models using Kfold cross validation: {}'.format(variance))"
   ]
  },
  {
   "cell_type": "markdown",
   "metadata": {},
   "source": [
    "#### Deviation is very low so I'd say that it is unlikely to be an overfitted model. With different training sets it got the mean with all training results is still very close to the above model."
   ]
  },
  {
   "cell_type": "markdown",
   "metadata": {},
   "source": [
    "<a id='13'></a>\n",
    "# 13. Improving ANN with Dropout layer"
   ]
  },
  {
   "cell_type": "markdown",
   "metadata": {},
   "source": [
    "#### Dropout Regularization is used to reduce overfitting if needed.\n",
    "\n",
    "#### p is the fraction of input units to drop. If suppose there are ten neurons from a layer and p is 0.1 then one of the neurons would be disabled and its output would not be sent to the further layer.\n",
    "#### It is advisable to start with p 0.1 and move to higher values when in case the overfitting problem persists. Also going over 0.5 is not advisable generally because it may cause underfitting as most of the neurons are disabled.\n"
   ]
  },
  {
   "cell_type": "code",
   "execution_count": 139,
   "metadata": {},
   "outputs": [
    {
     "name": "stdout",
     "output_type": "stream",
     "text": [
      "3/3 [==============================] - 0s 6ms/step - loss: 0.2264 - accuracy: 0.9318\n",
      "Train score: 0.22642573714256287\n",
      "Train accuracy: 0.9318181872367859\n",
      "********************\n",
      "1/1 [==============================] - 0s 26ms/step - loss: 0.2645 - accuracy: 0.9091\n",
      "Test score: 0.2645251154899597\n",
      "Test accuracy: 0.9090909361839294\n"
     ]
    }
   ],
   "source": [
    "# Improving the ANN\n",
    "from keras.layers import Dropout\n",
    "classifier = Sequential()\n",
    "# Adding the input layer and the first hidden layer\n",
    "classifier.add(Dense(units = 6, kernel_initializer = 'uniform', activation = 'relu', input_dim = 6))\n",
    "classifier.add(Dropout(rate = 0.1))\n",
    "\n",
    "# Adding the second hidden layer\n",
    "classifier.add(Dense(units = 6, kernel_initializer = 'uniform', activation = 'relu'))\n",
    "classifier.add(Dropout(rate = 0.1))\n",
    "\n",
    "# Adding the output layer\n",
    "classifier.add(Dense(units = 1, kernel_initializer = 'uniform', activation = 'sigmoid'))\n",
    "\n",
    "# Compiling the ANN\n",
    "classifier.compile(optimizer = 'adam', loss = 'binary_crossentropy', metrics = ['accuracy'])\n",
    "\n",
    "# Fitting the ANN to the Training set\n",
    "classifier.fit(X_train, y_train, batch_size = 16, epochs = 100,verbose = 0)\n",
    "\n",
    "# Part 3 - Making predictions and evaluating the model\n",
    "\n",
    "score, acc = classifier.evaluate(X_train, y_train,\n",
    "                            batch_size=16)\n",
    "print('Train score:', score)\n",
    "print('Train accuracy:', acc)\n",
    "# Part 3 - Making predictions and evaluating the model\n",
    "\n",
    "# Predicting the Test set results\n",
    "y_pred = classifier.predict(X_test)\n",
    "y_pred = (y_pred > 0.5)\n",
    "\n",
    "print('*'*20)\n",
    "score, acc = classifier.evaluate(X_test, y_test,\n",
    "                            batch_size=16)\n",
    "print('Test score:', score)\n",
    "print('Test accuracy:', acc)\n",
    "\n",
    "# Making the Confusion Matrix\n",
    "from sklearn.metrics import confusion_matrix\n",
    "cm = confusion_matrix(y_test, y_pred)"
   ]
  },
  {
   "cell_type": "code",
   "execution_count": 140,
   "metadata": {},
   "outputs": [
    {
     "data": {
      "text/plain": [
       "Text(0.5, 12.5, 'Predicted label')"
      ]
     },
     "execution_count": 140,
     "metadata": {},
     "output_type": "execute_result"
    },
    {
     "data": {
      "image/png": "[encoded data removed]",
      "text/plain": [
       "<Figure size 432x288 with 2 Axes>"
      ]
     },
     "metadata": {},
     "output_type": "display_data"
    }
   ],
   "source": [
    "p = sns.heatmap(pd.DataFrame(cm), annot=True, cmap=\"YlGnBu\" ,fmt='g')\n",
    "plt.title('Confusion matrix', y=1.1)\n",
    "plt.ylabel('Actual label')\n",
    "plt.xlabel('Predicted label')"
   ]
  },
  {
   "cell_type": "code",
   "execution_count": 141,
   "metadata": {},
   "outputs": [
    {
     "name": "stdout",
     "output_type": "stream",
     "text": [
      "              precision    recall  f1-score   support\n",
      "\n",
      "           0       1.00      0.88      0.93         8\n",
      "           1       0.75      1.00      0.86         3\n",
      "\n",
      "    accuracy                           0.91        11\n",
      "   macro avg       0.88      0.94      0.90        11\n",
      "weighted avg       0.93      0.91      0.91        11\n",
      "\n"
     ]
    }
   ],
   "source": [
    "#import classification_report\n",
    "from sklearn.metrics import classification_report\n",
    "print(classification_report(y_test,y_pred))"
   ]
  },
  {
   "cell_type": "code",
   "execution_count": 142,
   "metadata": {},
   "outputs": [
    {
     "data": {
      "image/png": "[encoded data removed]",
      "text/plain": [
       "<Figure size 432x288 with 1 Axes>"
      ]
     },
     "metadata": {},
     "output_type": "display_data"
    }
   ],
   "source": [
    "from sklearn.metrics import roc_curve\n",
    "y_pred_proba = classifier.predict(X_test)\n",
    "fpr, tpr, thresholds = roc_curve(y_test, y_pred_proba)\n",
    "plt.plot([0,1],[0,1],'k--')\n",
    "plt.plot(fpr,tpr, label='ANN')\n",
    "plt.xlabel('fpr')\n",
    "plt.ylabel('tpr')\n",
    "plt.title('ROC curve')\n",
    "plt.show()"
   ]
  },
  {
   "cell_type": "code",
   "execution_count": 143,
   "metadata": {},
   "outputs": [
    {
     "data": {
      "text/plain": [
       "1.0"
      ]
     },
     "execution_count": 143,
     "metadata": {},
     "output_type": "execute_result"
    }
   ],
   "source": [
    "#Area under ROC curve\n",
    "from sklearn.metrics import roc_auc_score\n",
    "roc_auc_score(y_test,y_pred_proba)"
   ]
  },
  {
   "cell_type": "markdown",
   "metadata": {},
   "source": [
    "<a id='14'></a>\n",
    "# 14. Tuning the ANN"
   ]
  },
  {
   "cell_type": "markdown",
   "metadata": {},
   "source": [
    "#### Let's test 2 values of the batch size and we're gonna try 25 and 32. So why 25 and 32? Well, that's based on my experience and that's also common practice to take powers of 2. Well, you can try other values of the batch size as well."
   ]
  },
  {
   "cell_type": "code",
   "execution_count": null,
   "metadata": {},
   "outputs": [],
   "source": [
    "\n"
   ]
  },
  {
   "cell_type": "code",
   "execution_count": 144,
   "metadata": {},
   "outputs": [
    {
     "name": "stdout",
     "output_type": "stream",
     "text": [
      "Best Parameters after tuning: {'batch_size': 8, 'epochs': 100, 'optimizer': 'rmsprop'}\n",
      "Best Accuracy after tuning: 0.86\n"
     ]
    }
   ],
   "source": [
    "print('Best Parameters after tuning: {}'.format(best_parameters))\n",
    "print('Best Accuracy after tuning: {}'.format(best_accuracy))"
   ]
  },
  {
   "cell_type": "code",
   "execution_count": null,
   "metadata": {},
   "outputs": [],
   "source": []
  },
  {
   "cell_type": "markdown",
   "metadata": {},
   "source": [
    "Big Thanks to\n",
    "* https://www.techopedia.com/definition/5967/artificial-neural-network-ann\n",
    "* https://www.digitaltrends.com/cool-tech/what-is-an-artificial-neural-network/\n",
    "* https://www.analyticsvidhya.com/blog/2014/10/ann-work-simplified/\n",
    "* https://www.analyticsvidhya.com/blog/2014/10/introduction-neural-network-simplified/\n",
    "* https://medium.com/technology-invention-and-more/everything-you-need-to-know-about-artificial-neural-networks-57fac18245a1\n",
    "* http://pages.cs.wisc.edu/~bolo/shipyard/neural/local.html\n",
    "* https://towardsdatascience.com/activation-functions-and-its-types-which-is-better-a9a5310cc8f"
   ]
  }
 ],
 "metadata": {
  "interpreter": {
   "hash": "ce49416ec5583b0c8275b442a1d04bbfd540648d21a9ae0fe7642419cc3fbdff"
  },
  "kernelspec": {
   "display_name": "Python 3.9.7 64-bit",
   "language": "python",
   "name": "python3"
  },
  "language_info": {
   "codemirror_mode": {
    "name": "ipython",
    "version": 3
   },
   "file_extension": ".py",
   "mimetype": "text/x-python",
   "name": "python",
   "nbconvert_exporter": "python",
   "pygments_lexer": "ipython3",
   "version": "3.9.7"
  }
 },
 "nbformat": 4,
 "nbformat_minor": 1
}
